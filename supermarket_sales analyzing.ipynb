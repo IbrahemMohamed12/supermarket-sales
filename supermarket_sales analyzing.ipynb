{
 "cells": [
  {
   "cell_type": "code",
   "execution_count": 2,
   "metadata": {},
   "outputs": [],
   "source": [
    "import pandas as pd \n",
    "import numpy as np \n",
    "import matplotlib.pyplot as plt\n",
    "import seaborn as sns\n",
    "import plotly.express as px"
   ]
  },
  {
   "cell_type": "code",
   "execution_count": 3,
   "metadata": {},
   "outputs": [
    {
     "data": {
      "text/html": [
       "<div>\n",
       "<style scoped>\n",
       "    .dataframe tbody tr th:only-of-type {\n",
       "        vertical-align: middle;\n",
       "    }\n",
       "\n",
       "    .dataframe tbody tr th {\n",
       "        vertical-align: top;\n",
       "    }\n",
       "\n",
       "    .dataframe thead th {\n",
       "        text-align: right;\n",
       "    }\n",
       "</style>\n",
       "<table border=\"1\" class=\"dataframe\">\n",
       "  <thead>\n",
       "    <tr style=\"text-align: right;\">\n",
       "      <th></th>\n",
       "      <th>Invoice ID</th>\n",
       "      <th>Date</th>\n",
       "      <th>Time</th>\n",
       "      <th>Month Name</th>\n",
       "      <th>Branch</th>\n",
       "      <th>Product line</th>\n",
       "      <th>City</th>\n",
       "      <th>Customer type</th>\n",
       "      <th>Gender</th>\n",
       "      <th>Payment</th>\n",
       "      <th>Unit price</th>\n",
       "      <th>Quantity</th>\n",
       "      <th>Tax 5%</th>\n",
       "      <th>Total</th>\n",
       "      <th>COGS</th>\n",
       "      <th>gross margin percentage</th>\n",
       "      <th>gross income</th>\n",
       "      <th>Rating</th>\n",
       "    </tr>\n",
       "  </thead>\n",
       "  <tbody>\n",
       "    <tr>\n",
       "      <th>0</th>\n",
       "      <td>750-67-8428</td>\n",
       "      <td>2019-01-05</td>\n",
       "      <td>13:08</td>\n",
       "      <td>January</td>\n",
       "      <td>A</td>\n",
       "      <td>Health and beauty</td>\n",
       "      <td>Yangon</td>\n",
       "      <td>Member</td>\n",
       "      <td>Female</td>\n",
       "      <td>Ewallet</td>\n",
       "      <td>74.69</td>\n",
       "      <td>7</td>\n",
       "      <td>26.14</td>\n",
       "      <td>548.97</td>\n",
       "      <td>522.83</td>\n",
       "      <td>4.8</td>\n",
       "      <td>26.14</td>\n",
       "      <td>9.1</td>\n",
       "    </tr>\n",
       "    <tr>\n",
       "      <th>1</th>\n",
       "      <td>226-31-3081</td>\n",
       "      <td>2019-03-08</td>\n",
       "      <td>10:29</td>\n",
       "      <td>March</td>\n",
       "      <td>C</td>\n",
       "      <td>Electronic accessories</td>\n",
       "      <td>Naypyitaw</td>\n",
       "      <td>Normal</td>\n",
       "      <td>Female</td>\n",
       "      <td>Cash</td>\n",
       "      <td>15.28</td>\n",
       "      <td>5</td>\n",
       "      <td>3.82</td>\n",
       "      <td>80.22</td>\n",
       "      <td>76.40</td>\n",
       "      <td>4.8</td>\n",
       "      <td>3.82</td>\n",
       "      <td>9.6</td>\n",
       "    </tr>\n",
       "    <tr>\n",
       "      <th>2</th>\n",
       "      <td>631-41-3108</td>\n",
       "      <td>2019-03-03</td>\n",
       "      <td>13:23</td>\n",
       "      <td>March</td>\n",
       "      <td>A</td>\n",
       "      <td>Home and lifestyle</td>\n",
       "      <td>Yangon</td>\n",
       "      <td>Normal</td>\n",
       "      <td>Male</td>\n",
       "      <td>Credit card</td>\n",
       "      <td>46.33</td>\n",
       "      <td>7</td>\n",
       "      <td>16.22</td>\n",
       "      <td>340.53</td>\n",
       "      <td>324.31</td>\n",
       "      <td>4.8</td>\n",
       "      <td>16.22</td>\n",
       "      <td>7.4</td>\n",
       "    </tr>\n",
       "    <tr>\n",
       "      <th>3</th>\n",
       "      <td>123-19-1176</td>\n",
       "      <td>2019-01-27</td>\n",
       "      <td>20:33</td>\n",
       "      <td>January</td>\n",
       "      <td>A</td>\n",
       "      <td>Health and beauty</td>\n",
       "      <td>Yangon</td>\n",
       "      <td>Member</td>\n",
       "      <td>Male</td>\n",
       "      <td>Ewallet</td>\n",
       "      <td>58.22</td>\n",
       "      <td>8</td>\n",
       "      <td>23.29</td>\n",
       "      <td>489.05</td>\n",
       "      <td>465.76</td>\n",
       "      <td>4.8</td>\n",
       "      <td>23.29</td>\n",
       "      <td>8.4</td>\n",
       "    </tr>\n",
       "    <tr>\n",
       "      <th>4</th>\n",
       "      <td>373-73-7910</td>\n",
       "      <td>2019-02-08</td>\n",
       "      <td>10:37</td>\n",
       "      <td>February</td>\n",
       "      <td>A</td>\n",
       "      <td>Sports and travel</td>\n",
       "      <td>Yangon</td>\n",
       "      <td>Normal</td>\n",
       "      <td>Male</td>\n",
       "      <td>Ewallet</td>\n",
       "      <td>86.31</td>\n",
       "      <td>7</td>\n",
       "      <td>30.21</td>\n",
       "      <td>634.38</td>\n",
       "      <td>604.17</td>\n",
       "      <td>4.8</td>\n",
       "      <td>30.21</td>\n",
       "      <td>5.3</td>\n",
       "    </tr>\n",
       "  </tbody>\n",
       "</table>\n",
       "</div>"
      ],
      "text/plain": [
       "    Invoice ID        Date   Time Month Name Branch            Product line  \\\n",
       "0  750-67-8428  2019-01-05  13:08    January      A       Health and beauty   \n",
       "1  226-31-3081  2019-03-08  10:29      March      C  Electronic accessories   \n",
       "2  631-41-3108  2019-03-03  13:23      March      A      Home and lifestyle   \n",
       "3  123-19-1176  2019-01-27  20:33    January      A       Health and beauty   \n",
       "4  373-73-7910  2019-02-08  10:37   February      A       Sports and travel   \n",
       "\n",
       "        City Customer type  Gender      Payment  Unit price  Quantity  Tax 5%  \\\n",
       "0     Yangon        Member  Female      Ewallet       74.69         7   26.14   \n",
       "1  Naypyitaw        Normal  Female         Cash       15.28         5    3.82   \n",
       "2     Yangon        Normal    Male  Credit card       46.33         7   16.22   \n",
       "3     Yangon        Member    Male      Ewallet       58.22         8   23.29   \n",
       "4     Yangon        Normal    Male      Ewallet       86.31         7   30.21   \n",
       "\n",
       "    Total    COGS  gross margin percentage  gross income  Rating  \n",
       "0  548.97  522.83                      4.8         26.14     9.1  \n",
       "1   80.22   76.40                      4.8          3.82     9.6  \n",
       "2  340.53  324.31                      4.8         16.22     7.4  \n",
       "3  489.05  465.76                      4.8         23.29     8.4  \n",
       "4  634.38  604.17                      4.8         30.21     5.3  "
      ]
     },
     "execution_count": 3,
     "metadata": {},
     "output_type": "execute_result"
    }
   ],
   "source": [
    "data = pd.read_csv('SuperMarket_Sales.csv')\n",
    "data.head(5)"
   ]
  },
  {
   "cell_type": "markdown",
   "metadata": {},
   "source": [
    "# IQR and Outliers"
   ]
  },
  {
   "cell_type": "code",
   "execution_count": 4,
   "metadata": {},
   "outputs": [
    {
     "data": {
      "text/html": [
       "<div>\n",
       "<style scoped>\n",
       "    .dataframe tbody tr th:only-of-type {\n",
       "        vertical-align: middle;\n",
       "    }\n",
       "\n",
       "    .dataframe tbody tr th {\n",
       "        vertical-align: top;\n",
       "    }\n",
       "\n",
       "    .dataframe thead th {\n",
       "        text-align: right;\n",
       "    }\n",
       "</style>\n",
       "<table border=\"1\" class=\"dataframe\">\n",
       "  <thead>\n",
       "    <tr style=\"text-align: right;\">\n",
       "      <th></th>\n",
       "      <th>Unit price</th>\n",
       "      <th>Quantity</th>\n",
       "      <th>Tax 5%</th>\n",
       "      <th>Total</th>\n",
       "      <th>COGS</th>\n",
       "      <th>gross margin percentage</th>\n",
       "      <th>gross income</th>\n",
       "      <th>Rating</th>\n",
       "    </tr>\n",
       "  </thead>\n",
       "  <tbody>\n",
       "    <tr>\n",
       "      <th>count</th>\n",
       "      <td>1000.00</td>\n",
       "      <td>1000.00</td>\n",
       "      <td>1000.00</td>\n",
       "      <td>1000.00</td>\n",
       "      <td>1000.00</td>\n",
       "      <td>1000.00</td>\n",
       "      <td>1000.00</td>\n",
       "      <td>1000.00</td>\n",
       "    </tr>\n",
       "    <tr>\n",
       "      <th>mean</th>\n",
       "      <td>55.67</td>\n",
       "      <td>5.51</td>\n",
       "      <td>15.38</td>\n",
       "      <td>322.97</td>\n",
       "      <td>307.59</td>\n",
       "      <td>4.80</td>\n",
       "      <td>15.38</td>\n",
       "      <td>6.97</td>\n",
       "    </tr>\n",
       "    <tr>\n",
       "      <th>std</th>\n",
       "      <td>26.49</td>\n",
       "      <td>2.92</td>\n",
       "      <td>11.71</td>\n",
       "      <td>245.89</td>\n",
       "      <td>234.18</td>\n",
       "      <td>0.01</td>\n",
       "      <td>11.71</td>\n",
       "      <td>1.72</td>\n",
       "    </tr>\n",
       "    <tr>\n",
       "      <th>min</th>\n",
       "      <td>10.08</td>\n",
       "      <td>1.00</td>\n",
       "      <td>0.51</td>\n",
       "      <td>10.68</td>\n",
       "      <td>10.17</td>\n",
       "      <td>4.70</td>\n",
       "      <td>0.51</td>\n",
       "      <td>4.00</td>\n",
       "    </tr>\n",
       "    <tr>\n",
       "      <th>25%</th>\n",
       "      <td>32.88</td>\n",
       "      <td>3.00</td>\n",
       "      <td>5.93</td>\n",
       "      <td>124.42</td>\n",
       "      <td>118.50</td>\n",
       "      <td>4.80</td>\n",
       "      <td>5.93</td>\n",
       "      <td>5.50</td>\n",
       "    </tr>\n",
       "    <tr>\n",
       "      <th>50%</th>\n",
       "      <td>55.23</td>\n",
       "      <td>5.00</td>\n",
       "      <td>12.09</td>\n",
       "      <td>253.85</td>\n",
       "      <td>241.76</td>\n",
       "      <td>4.80</td>\n",
       "      <td>12.09</td>\n",
       "      <td>7.00</td>\n",
       "    </tr>\n",
       "    <tr>\n",
       "      <th>75%</th>\n",
       "      <td>77.94</td>\n",
       "      <td>8.00</td>\n",
       "      <td>22.44</td>\n",
       "      <td>471.35</td>\n",
       "      <td>448.90</td>\n",
       "      <td>4.80</td>\n",
       "      <td>22.44</td>\n",
       "      <td>8.50</td>\n",
       "    </tr>\n",
       "    <tr>\n",
       "      <th>max</th>\n",
       "      <td>99.96</td>\n",
       "      <td>10.00</td>\n",
       "      <td>49.65</td>\n",
       "      <td>1042.65</td>\n",
       "      <td>993.00</td>\n",
       "      <td>4.80</td>\n",
       "      <td>49.65</td>\n",
       "      <td>10.00</td>\n",
       "    </tr>\n",
       "  </tbody>\n",
       "</table>\n",
       "</div>"
      ],
      "text/plain": [
       "       Unit price  Quantity   Tax 5%    Total     COGS  \\\n",
       "count     1000.00   1000.00  1000.00  1000.00  1000.00   \n",
       "mean        55.67      5.51    15.38   322.97   307.59   \n",
       "std         26.49      2.92    11.71   245.89   234.18   \n",
       "min         10.08      1.00     0.51    10.68    10.17   \n",
       "25%         32.88      3.00     5.93   124.42   118.50   \n",
       "50%         55.23      5.00    12.09   253.85   241.76   \n",
       "75%         77.94      8.00    22.44   471.35   448.90   \n",
       "max         99.96     10.00    49.65  1042.65   993.00   \n",
       "\n",
       "       gross margin percentage  gross income   Rating  \n",
       "count                  1000.00       1000.00  1000.00  \n",
       "mean                      4.80         15.38     6.97  \n",
       "std                       0.01         11.71     1.72  \n",
       "min                       4.70          0.51     4.00  \n",
       "25%                       4.80          5.93     5.50  \n",
       "50%                       4.80         12.09     7.00  \n",
       "75%                       4.80         22.44     8.50  \n",
       "max                       4.80         49.65    10.00  "
      ]
     },
     "execution_count": 4,
     "metadata": {},
     "output_type": "execute_result"
    }
   ],
   "source": [
    "# showing the statistical values for data\n",
    "\n",
    "round(data.describe(),2)"
   ]
  },
  {
   "cell_type": "code",
   "execution_count": 5,
   "metadata": {},
   "outputs": [
    {
     "data": {
      "text/plain": [
       "346.93"
      ]
     },
     "execution_count": 5,
     "metadata": {},
     "output_type": "execute_result"
    }
   ],
   "source": [
    "# calculateing IQR\n",
    "IQR = 471.35 - 124.42\n",
    "IQR"
   ]
  },
  {
   "cell_type": "code",
   "execution_count": 6,
   "metadata": {},
   "outputs": [
    {
     "name": "stdout",
     "output_type": "stream",
     "text": [
      "The Lower Bound: -173.46 \n",
      "The Upper Bound: 867.33\n"
     ]
    }
   ],
   "source": [
    "# Define the lower and upper bounds for outliers\n",
    "lower_bound = IQR - 1.5 * IQR\n",
    "upper_bound = IQR + 1.5 * IQR\n",
    "\n",
    "# Print The Result\n",
    "print(f'The Lower Bound: {round(lower_bound, 2)} \\nThe Upper Bound: {round(upper_bound, 2)}')"
   ]
  },
  {
   "cell_type": "code",
   "execution_count": 7,
   "metadata": {},
   "outputs": [
    {
     "data": {
      "text/html": [
       "<div>\n",
       "<style scoped>\n",
       "    .dataframe tbody tr th:only-of-type {\n",
       "        vertical-align: middle;\n",
       "    }\n",
       "\n",
       "    .dataframe tbody tr th {\n",
       "        vertical-align: top;\n",
       "    }\n",
       "\n",
       "    .dataframe thead th {\n",
       "        text-align: right;\n",
       "    }\n",
       "</style>\n",
       "<table border=\"1\" class=\"dataframe\">\n",
       "  <thead>\n",
       "    <tr style=\"text-align: right;\">\n",
       "      <th></th>\n",
       "      <th>Unit price</th>\n",
       "      <th>Quantity</th>\n",
       "      <th>Tax 5%</th>\n",
       "      <th>Total</th>\n",
       "      <th>COGS</th>\n",
       "      <th>gross margin percentage</th>\n",
       "      <th>gross income</th>\n",
       "      <th>Rating</th>\n",
       "    </tr>\n",
       "  </thead>\n",
       "  <tbody>\n",
       "    <tr>\n",
       "      <th>count</th>\n",
       "      <td>32.00</td>\n",
       "      <td>32.00</td>\n",
       "      <td>32.00</td>\n",
       "      <td>32.00</td>\n",
       "      <td>32.00</td>\n",
       "      <td>32.0</td>\n",
       "      <td>32.00</td>\n",
       "      <td>32.00</td>\n",
       "    </tr>\n",
       "    <tr>\n",
       "      <th>mean</th>\n",
       "      <td>93.81</td>\n",
       "      <td>9.66</td>\n",
       "      <td>45.23</td>\n",
       "      <td>949.73</td>\n",
       "      <td>904.51</td>\n",
       "      <td>4.8</td>\n",
       "      <td>45.23</td>\n",
       "      <td>7.05</td>\n",
       "    </tr>\n",
       "    <tr>\n",
       "      <th>std</th>\n",
       "      <td>5.56</td>\n",
       "      <td>0.48</td>\n",
       "      <td>2.49</td>\n",
       "      <td>52.28</td>\n",
       "      <td>49.79</td>\n",
       "      <td>0.0</td>\n",
       "      <td>2.49</td>\n",
       "      <td>1.87</td>\n",
       "    </tr>\n",
       "    <tr>\n",
       "      <th>min</th>\n",
       "      <td>82.63</td>\n",
       "      <td>9.00</td>\n",
       "      <td>41.32</td>\n",
       "      <td>867.62</td>\n",
       "      <td>826.30</td>\n",
       "      <td>4.8</td>\n",
       "      <td>41.32</td>\n",
       "      <td>4.20</td>\n",
       "    </tr>\n",
       "    <tr>\n",
       "      <th>25%</th>\n",
       "      <td>89.41</td>\n",
       "      <td>9.00</td>\n",
       "      <td>43.84</td>\n",
       "      <td>920.58</td>\n",
       "      <td>876.74</td>\n",
       "      <td>4.8</td>\n",
       "      <td>43.84</td>\n",
       "      <td>5.18</td>\n",
       "    </tr>\n",
       "    <tr>\n",
       "      <th>50%</th>\n",
       "      <td>96.40</td>\n",
       "      <td>10.00</td>\n",
       "      <td>44.70</td>\n",
       "      <td>938.68</td>\n",
       "      <td>893.98</td>\n",
       "      <td>4.8</td>\n",
       "      <td>44.70</td>\n",
       "      <td>7.30</td>\n",
       "    </tr>\n",
       "    <tr>\n",
       "      <th>75%</th>\n",
       "      <td>98.56</td>\n",
       "      <td>10.00</td>\n",
       "      <td>47.74</td>\n",
       "      <td>1002.49</td>\n",
       "      <td>954.75</td>\n",
       "      <td>4.8</td>\n",
       "      <td>47.74</td>\n",
       "      <td>8.72</td>\n",
       "    </tr>\n",
       "    <tr>\n",
       "      <th>max</th>\n",
       "      <td>99.96</td>\n",
       "      <td>10.00</td>\n",
       "      <td>49.65</td>\n",
       "      <td>1042.65</td>\n",
       "      <td>993.00</td>\n",
       "      <td>4.8</td>\n",
       "      <td>49.65</td>\n",
       "      <td>9.90</td>\n",
       "    </tr>\n",
       "  </tbody>\n",
       "</table>\n",
       "</div>"
      ],
      "text/plain": [
       "       Unit price  Quantity  Tax 5%    Total    COGS  gross margin percentage  \\\n",
       "count       32.00     32.00   32.00    32.00   32.00                     32.0   \n",
       "mean        93.81      9.66   45.23   949.73  904.51                      4.8   \n",
       "std          5.56      0.48    2.49    52.28   49.79                      0.0   \n",
       "min         82.63      9.00   41.32   867.62  826.30                      4.8   \n",
       "25%         89.41      9.00   43.84   920.58  876.74                      4.8   \n",
       "50%         96.40     10.00   44.70   938.68  893.98                      4.8   \n",
       "75%         98.56     10.00   47.74  1002.49  954.75                      4.8   \n",
       "max         99.96     10.00   49.65  1042.65  993.00                      4.8   \n",
       "\n",
       "       gross income  Rating  \n",
       "count         32.00   32.00  \n",
       "mean          45.23    7.05  \n",
       "std            2.49    1.87  \n",
       "min           41.32    4.20  \n",
       "25%           43.84    5.18  \n",
       "50%           44.70    7.30  \n",
       "75%           47.74    8.72  \n",
       "max           49.65    9.90  "
      ]
     },
     "execution_count": 7,
     "metadata": {},
     "output_type": "execute_result"
    }
   ],
   "source": [
    "# showing the statistical values for outlirs data\n",
    "\n",
    "round(data[data['Total'] > 867.33].describe(),2)"
   ]
  },
  {
   "cell_type": "code",
   "execution_count": 8,
   "metadata": {},
   "outputs": [
    {
     "data": {
      "image/png": "[encoded data removed]",
      "text/plain": [
       "<Figure size 640x480 with 1 Axes>"
      ]
     },
     "metadata": {},
     "output_type": "display_data"
    }
   ],
   "source": [
    "# extract the values before remove the outliers\n",
    "data.boxplot()\n",
    "\n",
    "# showing the boxplot\n",
    "plt.show()"
   ]
  },
  {
   "cell_type": "code",
   "execution_count": 9,
   "metadata": {},
   "outputs": [
    {
     "data": {
      "text/html": [
       "<div>\n",
       "<style scoped>\n",
       "    .dataframe tbody tr th:only-of-type {\n",
       "        vertical-align: middle;\n",
       "    }\n",
       "\n",
       "    .dataframe tbody tr th {\n",
       "        vertical-align: top;\n",
       "    }\n",
       "\n",
       "    .dataframe thead th {\n",
       "        text-align: right;\n",
       "    }\n",
       "</style>\n",
       "<table border=\"1\" class=\"dataframe\">\n",
       "  <thead>\n",
       "    <tr style=\"text-align: right;\">\n",
       "      <th></th>\n",
       "      <th>Unit price</th>\n",
       "      <th>Quantity</th>\n",
       "      <th>Tax 5%</th>\n",
       "      <th>Total</th>\n",
       "      <th>COGS</th>\n",
       "      <th>gross margin percentage</th>\n",
       "      <th>gross income</th>\n",
       "      <th>Rating</th>\n",
       "    </tr>\n",
       "  </thead>\n",
       "  <tbody>\n",
       "    <tr>\n",
       "      <th>count</th>\n",
       "      <td>968.00</td>\n",
       "      <td>968.00</td>\n",
       "      <td>968.00</td>\n",
       "      <td>968.00</td>\n",
       "      <td>968.00</td>\n",
       "      <td>968.00</td>\n",
       "      <td>968.00</td>\n",
       "      <td>968.00</td>\n",
       "    </tr>\n",
       "    <tr>\n",
       "      <th>mean</th>\n",
       "      <td>54.41</td>\n",
       "      <td>5.37</td>\n",
       "      <td>14.39</td>\n",
       "      <td>302.25</td>\n",
       "      <td>287.85</td>\n",
       "      <td>4.80</td>\n",
       "      <td>14.39</td>\n",
       "      <td>6.97</td>\n",
       "    </tr>\n",
       "    <tr>\n",
       "      <th>std</th>\n",
       "      <td>25.97</td>\n",
       "      <td>2.87</td>\n",
       "      <td>10.53</td>\n",
       "      <td>221.23</td>\n",
       "      <td>210.70</td>\n",
       "      <td>0.01</td>\n",
       "      <td>10.53</td>\n",
       "      <td>1.71</td>\n",
       "    </tr>\n",
       "    <tr>\n",
       "      <th>min</th>\n",
       "      <td>10.08</td>\n",
       "      <td>1.00</td>\n",
       "      <td>0.51</td>\n",
       "      <td>10.68</td>\n",
       "      <td>10.17</td>\n",
       "      <td>4.70</td>\n",
       "      <td>0.51</td>\n",
       "      <td>4.00</td>\n",
       "    </tr>\n",
       "    <tr>\n",
       "      <th>25%</th>\n",
       "      <td>32.18</td>\n",
       "      <td>3.00</td>\n",
       "      <td>5.71</td>\n",
       "      <td>119.94</td>\n",
       "      <td>114.22</td>\n",
       "      <td>4.80</td>\n",
       "      <td>5.71</td>\n",
       "      <td>5.50</td>\n",
       "    </tr>\n",
       "    <tr>\n",
       "      <th>50%</th>\n",
       "      <td>53.75</td>\n",
       "      <td>5.00</td>\n",
       "      <td>11.60</td>\n",
       "      <td>243.46</td>\n",
       "      <td>231.86</td>\n",
       "      <td>4.80</td>\n",
       "      <td>11.60</td>\n",
       "      <td>6.95</td>\n",
       "    </tr>\n",
       "    <tr>\n",
       "      <th>75%</th>\n",
       "      <td>75.88</td>\n",
       "      <td>8.00</td>\n",
       "      <td>21.44</td>\n",
       "      <td>450.33</td>\n",
       "      <td>428.89</td>\n",
       "      <td>4.80</td>\n",
       "      <td>21.44</td>\n",
       "      <td>8.43</td>\n",
       "    </tr>\n",
       "    <tr>\n",
       "      <th>max</th>\n",
       "      <td>99.96</td>\n",
       "      <td>10.00</td>\n",
       "      <td>41.29</td>\n",
       "      <td>867.09</td>\n",
       "      <td>825.80</td>\n",
       "      <td>4.80</td>\n",
       "      <td>41.29</td>\n",
       "      <td>10.00</td>\n",
       "    </tr>\n",
       "  </tbody>\n",
       "</table>\n",
       "</div>"
      ],
      "text/plain": [
       "       Unit price  Quantity  Tax 5%   Total    COGS  gross margin percentage  \\\n",
       "count      968.00    968.00  968.00  968.00  968.00                   968.00   \n",
       "mean        54.41      5.37   14.39  302.25  287.85                     4.80   \n",
       "std         25.97      2.87   10.53  221.23  210.70                     0.01   \n",
       "min         10.08      1.00    0.51   10.68   10.17                     4.70   \n",
       "25%         32.18      3.00    5.71  119.94  114.22                     4.80   \n",
       "50%         53.75      5.00   11.60  243.46  231.86                     4.80   \n",
       "75%         75.88      8.00   21.44  450.33  428.89                     4.80   \n",
       "max         99.96     10.00   41.29  867.09  825.80                     4.80   \n",
       "\n",
       "       gross income  Rating  \n",
       "count        968.00  968.00  \n",
       "mean          14.39    6.97  \n",
       "std           10.53    1.71  \n",
       "min            0.51    4.00  \n",
       "25%            5.71    5.50  \n",
       "50%           11.60    6.95  \n",
       "75%           21.44    8.43  \n",
       "max           41.29   10.00  "
      ]
     },
     "execution_count": 9,
     "metadata": {},
     "output_type": "execute_result"
    }
   ],
   "source": [
    "# Assign data in df variable after remove outliers\n",
    "df = data[data['Total'] <= 867.33]\n",
    "\n",
    "# showing the statistical values for data\n",
    "round(df.describe(),2)"
   ]
  },
  {
   "cell_type": "code",
   "execution_count": 10,
   "metadata": {},
   "outputs": [
    {
     "data": {
      "image/png": "[encoded data removed]",
      "text/plain": [
       "<Figure size 640x480 with 1 Axes>"
      ]
     },
     "metadata": {},
     "output_type": "display_data"
    }
   ],
   "source": [
    "# extract The data after remove the Outliers\n",
    "df.boxplot()\n",
    "\n",
    "# showing the boxplot\n",
    "plt.show()"
   ]
  },
  {
   "cell_type": "code",
   "execution_count": 11,
   "metadata": {},
   "outputs": [
    {
     "data": {
      "text/plain": [
       "Index(['Invoice ID', 'Date', 'Time', 'Month Name', 'Branch', 'Product line',\n",
       "       'City', 'Customer type', 'Gender', 'Payment', 'Unit price', 'Quantity',\n",
       "       'Tax 5%', 'Total', 'COGS', 'gross margin percentage', 'gross income',\n",
       "       'Rating'],\n",
       "      dtype='object')"
      ]
     },
     "execution_count": 11,
     "metadata": {},
     "output_type": "execute_result"
    }
   ],
   "source": [
    "df.columns"
   ]
  },
  {
   "cell_type": "markdown",
   "metadata": {},
   "source": [
    "## Some statisticl values for data"
   ]
  },
  {
   "cell_type": "code",
   "execution_count": 12,
   "metadata": {},
   "outputs": [
    {
     "data": {
      "text/html": [
       "<div>\n",
       "<style scoped>\n",
       "    .dataframe tbody tr th:only-of-type {\n",
       "        vertical-align: middle;\n",
       "    }\n",
       "\n",
       "    .dataframe tbody tr th {\n",
       "        vertical-align: top;\n",
       "    }\n",
       "\n",
       "    .dataframe thead th {\n",
       "        text-align: right;\n",
       "    }\n",
       "</style>\n",
       "<table border=\"1\" class=\"dataframe\">\n",
       "  <thead>\n",
       "    <tr style=\"text-align: right;\">\n",
       "      <th></th>\n",
       "      <th>Invoice ID</th>\n",
       "      <th>Date</th>\n",
       "      <th>Time</th>\n",
       "      <th>Month Name</th>\n",
       "      <th>Branch</th>\n",
       "      <th>Product line</th>\n",
       "      <th>City</th>\n",
       "      <th>Customer type</th>\n",
       "      <th>Gender</th>\n",
       "      <th>Payment</th>\n",
       "      <th>Unit price</th>\n",
       "      <th>Quantity</th>\n",
       "      <th>Tax 5%</th>\n",
       "      <th>Total</th>\n",
       "      <th>COGS</th>\n",
       "      <th>gross margin percentage</th>\n",
       "      <th>gross income</th>\n",
       "      <th>Rating</th>\n",
       "    </tr>\n",
       "  </thead>\n",
       "  <tbody>\n",
       "    <tr>\n",
       "      <th>492</th>\n",
       "      <td>608-04-3797</td>\n",
       "      <td>2019-03-05</td>\n",
       "      <td>20:24</td>\n",
       "      <td>March</td>\n",
       "      <td>B</td>\n",
       "      <td>Health and beauty</td>\n",
       "      <td>Mandalay</td>\n",
       "      <td>Member</td>\n",
       "      <td>Female</td>\n",
       "      <td>Ewallet</td>\n",
       "      <td>25.32</td>\n",
       "      <td>8</td>\n",
       "      <td>10.13</td>\n",
       "      <td>212.69</td>\n",
       "      <td>202.56</td>\n",
       "      <td>4.8</td>\n",
       "      <td>10.13</td>\n",
       "      <td>8.7</td>\n",
       "    </tr>\n",
       "    <tr>\n",
       "      <th>382</th>\n",
       "      <td>868-52-7573</td>\n",
       "      <td>2019-01-14</td>\n",
       "      <td>12:09</td>\n",
       "      <td>January</td>\n",
       "      <td>B</td>\n",
       "      <td>Food and beverages</td>\n",
       "      <td>Mandalay</td>\n",
       "      <td>Normal</td>\n",
       "      <td>Female</td>\n",
       "      <td>Cash</td>\n",
       "      <td>99.69</td>\n",
       "      <td>5</td>\n",
       "      <td>24.92</td>\n",
       "      <td>523.37</td>\n",
       "      <td>498.45</td>\n",
       "      <td>4.8</td>\n",
       "      <td>24.92</td>\n",
       "      <td>9.9</td>\n",
       "    </tr>\n",
       "  </tbody>\n",
       "</table>\n",
       "</div>"
      ],
      "text/plain": [
       "      Invoice ID        Date   Time Month Name Branch        Product line  \\\n",
       "492  608-04-3797  2019-03-05  20:24      March      B   Health and beauty   \n",
       "382  868-52-7573  2019-01-14  12:09    January      B  Food and beverages   \n",
       "\n",
       "         City Customer type  Gender  Payment  Unit price  Quantity  Tax 5%  \\\n",
       "492  Mandalay        Member  Female  Ewallet       25.32         8   10.13   \n",
       "382  Mandalay        Normal  Female     Cash       99.69         5   24.92   \n",
       "\n",
       "      Total    COGS  gross margin percentage  gross income  Rating  \n",
       "492  212.69  202.56                      4.8         10.13     8.7  \n",
       "382  523.37  498.45                      4.8         24.92     9.9  "
      ]
     },
     "execution_count": 12,
     "metadata": {},
     "output_type": "execute_result"
    }
   ],
   "source": [
    "df.sample(2)"
   ]
  },
  {
   "cell_type": "code",
   "execution_count": 13,
   "metadata": {},
   "outputs": [
    {
     "data": {
      "text/plain": [
       "292575.41"
      ]
     },
     "execution_count": 13,
     "metadata": {},
     "output_type": "execute_result"
    }
   ],
   "source": [
    "# Total Sales\n",
    "\n",
    "round(df['Total'].sum(),2)"
   ]
  },
  {
   "cell_type": "code",
   "execution_count": 14,
   "metadata": {},
   "outputs": [
    {
     "data": {
      "text/plain": [
       "13932.37"
      ]
     },
     "execution_count": 14,
     "metadata": {},
     "output_type": "execute_result"
    }
   ],
   "source": [
    "# Total Profit\n",
    "\n",
    "round(df['gross income'].sum(),2)"
   ]
  },
  {
   "cell_type": "code",
   "execution_count": 15,
   "metadata": {},
   "outputs": [
    {
     "data": {
      "text/plain": [
       "278643.17"
      ]
     },
     "execution_count": 15,
     "metadata": {},
     "output_type": "execute_result"
    }
   ],
   "source": [
    "# Total COGS \n",
    "\n",
    "round(df['COGS'].sum(),2)"
   ]
  },
  {
   "cell_type": "code",
   "execution_count": 16,
   "metadata": {},
   "outputs": [
    {
     "data": {
      "text/plain": [
       "54.41"
      ]
     },
     "execution_count": 16,
     "metadata": {},
     "output_type": "execute_result"
    }
   ],
   "source": [
    "# The average for Euch unit\n",
    "\n",
    "df['Unit price'].mean().round(2)"
   ]
  },
  {
   "cell_type": "code",
   "execution_count": 17,
   "metadata": {},
   "outputs": [
    {
     "name": "stdout",
     "output_type": "stream",
     "text": [
      "The Max price : 99.96 \n",
      "The Min Price : 10.08\n"
     ]
    }
   ],
   "source": [
    "# The max and min unit Price\n",
    "\n",
    "max_price = df['Unit price'].max()\n",
    "min_price = df['Unit price'].min()\n",
    "\n",
    "# print the varble \n",
    "\n",
    "print(f\"The Max price : {max_price} \\nThe Min Price : {min_price}\")"
   ]
  },
  {
   "cell_type": "code",
   "execution_count": 18,
   "metadata": {},
   "outputs": [
    {
     "data": {
      "text/plain": [
       "6.97"
      ]
     },
     "execution_count": 18,
     "metadata": {},
     "output_type": "execute_result"
    }
   ],
   "source": [
    "# The average Rating\n",
    "\n",
    "round(df['Rating'].mean(),2)"
   ]
  },
  {
   "cell_type": "markdown",
   "metadata": {},
   "source": [
    "## Product line\t"
   ]
  },
  {
   "cell_type": "code",
   "execution_count": 19,
   "metadata": {},
   "outputs": [
    {
     "data": {
      "text/html": [
       "<div>\n",
       "<style scoped>\n",
       "    .dataframe tbody tr th:only-of-type {\n",
       "        vertical-align: middle;\n",
       "    }\n",
       "\n",
       "    .dataframe tbody tr th {\n",
       "        vertical-align: top;\n",
       "    }\n",
       "\n",
       "    .dataframe thead th {\n",
       "        text-align: right;\n",
       "    }\n",
       "</style>\n",
       "<table border=\"1\" class=\"dataframe\">\n",
       "  <thead>\n",
       "    <tr style=\"text-align: right;\">\n",
       "      <th></th>\n",
       "      <th>Invoice ID</th>\n",
       "      <th>Date</th>\n",
       "      <th>Time</th>\n",
       "      <th>Month Name</th>\n",
       "      <th>Branch</th>\n",
       "      <th>Product line</th>\n",
       "      <th>City</th>\n",
       "      <th>Customer type</th>\n",
       "      <th>Gender</th>\n",
       "      <th>Payment</th>\n",
       "      <th>Unit price</th>\n",
       "      <th>Quantity</th>\n",
       "      <th>Tax 5%</th>\n",
       "      <th>Total</th>\n",
       "      <th>COGS</th>\n",
       "      <th>gross margin percentage</th>\n",
       "      <th>gross income</th>\n",
       "      <th>Rating</th>\n",
       "    </tr>\n",
       "  </thead>\n",
       "  <tbody>\n",
       "    <tr>\n",
       "      <th>331</th>\n",
       "      <td>634-97-8956</td>\n",
       "      <td>2019-02-17</td>\n",
       "      <td>17:27</td>\n",
       "      <td>February</td>\n",
       "      <td>A</td>\n",
       "      <td>Food and beverages</td>\n",
       "      <td>Yangon</td>\n",
       "      <td>Normal</td>\n",
       "      <td>Male</td>\n",
       "      <td>Credit card</td>\n",
       "      <td>32.90</td>\n",
       "      <td>3</td>\n",
       "      <td>4.93</td>\n",
       "      <td>103.64</td>\n",
       "      <td>98.70</td>\n",
       "      <td>4.8</td>\n",
       "      <td>4.93</td>\n",
       "      <td>9.1</td>\n",
       "    </tr>\n",
       "    <tr>\n",
       "      <th>180</th>\n",
       "      <td>130-98-8941</td>\n",
       "      <td>2019-02-09</td>\n",
       "      <td>10:00</td>\n",
       "      <td>February</td>\n",
       "      <td>C</td>\n",
       "      <td>Fashion accessories</td>\n",
       "      <td>Naypyitaw</td>\n",
       "      <td>Normal</td>\n",
       "      <td>Male</td>\n",
       "      <td>Cash</td>\n",
       "      <td>64.26</td>\n",
       "      <td>7</td>\n",
       "      <td>22.49</td>\n",
       "      <td>472.31</td>\n",
       "      <td>449.82</td>\n",
       "      <td>4.8</td>\n",
       "      <td>22.49</td>\n",
       "      <td>5.7</td>\n",
       "    </tr>\n",
       "    <tr>\n",
       "      <th>83</th>\n",
       "      <td>787-56-0757</td>\n",
       "      <td>2019-02-23</td>\n",
       "      <td>18:45</td>\n",
       "      <td>February</td>\n",
       "      <td>C</td>\n",
       "      <td>Food and beverages</td>\n",
       "      <td>Naypyitaw</td>\n",
       "      <td>Member</td>\n",
       "      <td>Female</td>\n",
       "      <td>Credit card</td>\n",
       "      <td>80.36</td>\n",
       "      <td>4</td>\n",
       "      <td>16.07</td>\n",
       "      <td>337.51</td>\n",
       "      <td>321.44</td>\n",
       "      <td>4.8</td>\n",
       "      <td>16.07</td>\n",
       "      <td>8.3</td>\n",
       "    </tr>\n",
       "  </tbody>\n",
       "</table>\n",
       "</div>"
      ],
      "text/plain": [
       "      Invoice ID        Date   Time Month Name Branch         Product line  \\\n",
       "331  634-97-8956  2019-02-17  17:27   February      A   Food and beverages   \n",
       "180  130-98-8941  2019-02-09  10:00   February      C  Fashion accessories   \n",
       "83   787-56-0757  2019-02-23  18:45   February      C   Food and beverages   \n",
       "\n",
       "          City Customer type  Gender      Payment  Unit price  Quantity  \\\n",
       "331     Yangon        Normal    Male  Credit card       32.90         3   \n",
       "180  Naypyitaw        Normal    Male         Cash       64.26         7   \n",
       "83   Naypyitaw        Member  Female  Credit card       80.36         4   \n",
       "\n",
       "     Tax 5%   Total    COGS  gross margin percentage  gross income  Rating  \n",
       "331    4.93  103.64   98.70                      4.8          4.93     9.1  \n",
       "180   22.49  472.31  449.82                      4.8         22.49     5.7  \n",
       "83    16.07  337.51  321.44                      4.8         16.07     8.3  "
      ]
     },
     "execution_count": 19,
     "metadata": {},
     "output_type": "execute_result"
    }
   ],
   "source": [
    "# showing samble of the data\n",
    "\n",
    "df.sample(3)"
   ]
  },
  {
   "cell_type": "code",
   "execution_count": 65,
   "metadata": {},
   "outputs": [
    {
     "name": "stdout",
     "output_type": "stream",
     "text": [
      "The number of unique values: 6\n",
      "----\n",
      "The products are: ['Health and beauty' 'Electronic accessories' 'Home and lifestyle'\n",
      " 'Sports and travel' 'Food and beverages' 'Fashion accessories']\n",
      "\n"
     ]
    }
   ],
   "source": [
    "# the unique value for Product line \n",
    "\n",
    "# Getting unique values\n",
    "Product = df['Product line'].unique()\n",
    "\n",
    "# Getting the number of unique values\n",
    "Number = df['Product line'].nunique()\n",
    "\n",
    "# Showing the result\n",
    "print(f'The number of unique values: {Number}\\n----\\nThe products are: {Product}\\n')"
   ]
  },
  {
   "cell_type": "code",
   "execution_count": 21,
   "metadata": {},
   "outputs": [
    {
     "data": {
      "text/html": [
       "<div>\n",
       "<style scoped>\n",
       "    .dataframe tbody tr th:only-of-type {\n",
       "        vertical-align: middle;\n",
       "    }\n",
       "\n",
       "    .dataframe tbody tr th {\n",
       "        vertical-align: top;\n",
       "    }\n",
       "\n",
       "    .dataframe thead th {\n",
       "        text-align: right;\n",
       "    }\n",
       "</style>\n",
       "<table border=\"1\" class=\"dataframe\">\n",
       "  <thead>\n",
       "    <tr style=\"text-align: right;\">\n",
       "      <th></th>\n",
       "      <th>Product Line</th>\n",
       "      <th>Sales Count</th>\n",
       "    </tr>\n",
       "  </thead>\n",
       "  <tbody>\n",
       "    <tr>\n",
       "      <th>0</th>\n",
       "      <td>Fashion accessories</td>\n",
       "      <td>172</td>\n",
       "    </tr>\n",
       "    <tr>\n",
       "      <th>1</th>\n",
       "      <td>Electronic accessories</td>\n",
       "      <td>168</td>\n",
       "    </tr>\n",
       "    <tr>\n",
       "      <th>2</th>\n",
       "      <td>Food and beverages</td>\n",
       "      <td>166</td>\n",
       "    </tr>\n",
       "    <tr>\n",
       "      <th>3</th>\n",
       "      <td>Sports and travel</td>\n",
       "      <td>160</td>\n",
       "    </tr>\n",
       "    <tr>\n",
       "      <th>4</th>\n",
       "      <td>Home and lifestyle</td>\n",
       "      <td>154</td>\n",
       "    </tr>\n",
       "    <tr>\n",
       "      <th>5</th>\n",
       "      <td>Health and beauty</td>\n",
       "      <td>148</td>\n",
       "    </tr>\n",
       "  </tbody>\n",
       "</table>\n",
       "</div>"
      ],
      "text/plain": [
       "             Product Line  Sales Count\n",
       "0     Fashion accessories          172\n",
       "1  Electronic accessories          168\n",
       "2      Food and beverages          166\n",
       "3       Sports and travel          160\n",
       "4      Home and lifestyle          154\n",
       "5       Health and beauty          148"
      ]
     },
     "execution_count": 21,
     "metadata": {},
     "output_type": "execute_result"
    }
   ],
   "source": [
    "# the sales number for each Product\n",
    "\n",
    "\n",
    "# Get the sales count for each product line\n",
    "product_sales = df['Product line'].value_counts()\n",
    "\n",
    "# Rename the Series for clarity\n",
    "product_sales = product_sales.rename_axis('Product Line').reset_index(name='Sales Count')\n",
    "\n",
    "# Display the result\n",
    "product_sales"
   ]
  },
  {
   "cell_type": "code",
   "execution_count": 22,
   "metadata": {},
   "outputs": [
    {
     "data": {
      "image/png": "[encoded data removed]",
      "text/plain": [
       "<Figure size 640x480 with 1 Axes>"
      ]
     },
     "metadata": {},
     "output_type": "display_data"
    }
   ],
   "source": [
    "# sowing bar chart for product sales\n",
    "\n",
    "# Define custom colors for each product line\n",
    "colors = ['skyblue', 'lightgreen', 'lightcoral', 'orange', 'lightpink']\n",
    "\n",
    "# Plotting the bar chart\n",
    "product_sales.plot(kind='bar', x='Product Line', y='Sales Count', legend=False, rot=60, color=colors)\n",
    "\n",
    "    # Adding labels and title\n",
    "plt.xlabel('Product')\n",
    "plt.ylabel('Sales Count')\n",
    "plt.title('Sales Count for Each Product')\n",
    "\n",
    "# Display the plot\n",
    "plt.show()"
   ]
  },
  {
   "cell_type": "code",
   "execution_count": 23,
   "metadata": {},
   "outputs": [
    {
     "data": {
      "text/html": [
       "<div>\n",
       "<style scoped>\n",
       "    .dataframe tbody tr th:only-of-type {\n",
       "        vertical-align: middle;\n",
       "    }\n",
       "\n",
       "    .dataframe tbody tr th {\n",
       "        vertical-align: top;\n",
       "    }\n",
       "\n",
       "    .dataframe thead th {\n",
       "        text-align: right;\n",
       "    }\n",
       "</style>\n",
       "<table border=\"1\" class=\"dataframe\">\n",
       "  <thead>\n",
       "    <tr style=\"text-align: right;\">\n",
       "      <th></th>\n",
       "      <th>Invoice ID</th>\n",
       "      <th>Date</th>\n",
       "      <th>Time</th>\n",
       "      <th>Month Name</th>\n",
       "      <th>Branch</th>\n",
       "      <th>Product line</th>\n",
       "      <th>City</th>\n",
       "      <th>Customer type</th>\n",
       "      <th>Gender</th>\n",
       "      <th>Payment</th>\n",
       "      <th>Unit price</th>\n",
       "      <th>Quantity</th>\n",
       "      <th>Tax 5%</th>\n",
       "      <th>Total</th>\n",
       "      <th>COGS</th>\n",
       "      <th>gross margin percentage</th>\n",
       "      <th>gross income</th>\n",
       "      <th>Rating</th>\n",
       "    </tr>\n",
       "  </thead>\n",
       "  <tbody>\n",
       "    <tr>\n",
       "      <th>764</th>\n",
       "      <td>787-87-2010</td>\n",
       "      <td>2019-01-20</td>\n",
       "      <td>15:48</td>\n",
       "      <td>January</td>\n",
       "      <td>A</td>\n",
       "      <td>Health and beauty</td>\n",
       "      <td>Yangon</td>\n",
       "      <td>Member</td>\n",
       "      <td>Male</td>\n",
       "      <td>Credit card</td>\n",
       "      <td>55.50</td>\n",
       "      <td>4</td>\n",
       "      <td>11.10</td>\n",
       "      <td>233.10</td>\n",
       "      <td>222.00</td>\n",
       "      <td>4.8</td>\n",
       "      <td>11.10</td>\n",
       "      <td>6.6</td>\n",
       "    </tr>\n",
       "    <tr>\n",
       "      <th>130</th>\n",
       "      <td>191-10-6171</td>\n",
       "      <td>2019-01-25</td>\n",
       "      <td>13:18</td>\n",
       "      <td>January</td>\n",
       "      <td>B</td>\n",
       "      <td>Fashion accessories</td>\n",
       "      <td>Mandalay</td>\n",
       "      <td>Normal</td>\n",
       "      <td>Female</td>\n",
       "      <td>Cash</td>\n",
       "      <td>39.62</td>\n",
       "      <td>7</td>\n",
       "      <td>13.87</td>\n",
       "      <td>291.21</td>\n",
       "      <td>277.34</td>\n",
       "      <td>4.8</td>\n",
       "      <td>13.87</td>\n",
       "      <td>7.5</td>\n",
       "    </tr>\n",
       "    <tr>\n",
       "      <th>460</th>\n",
       "      <td>639-76-1242</td>\n",
       "      <td>2019-02-03</td>\n",
       "      <td>15:19</td>\n",
       "      <td>February</td>\n",
       "      <td>C</td>\n",
       "      <td>Food and beverages</td>\n",
       "      <td>Naypyitaw</td>\n",
       "      <td>Normal</td>\n",
       "      <td>Male</td>\n",
       "      <td>Cash</td>\n",
       "      <td>40.52</td>\n",
       "      <td>5</td>\n",
       "      <td>10.13</td>\n",
       "      <td>212.73</td>\n",
       "      <td>202.60</td>\n",
       "      <td>4.8</td>\n",
       "      <td>10.13</td>\n",
       "      <td>4.5</td>\n",
       "    </tr>\n",
       "  </tbody>\n",
       "</table>\n",
       "</div>"
      ],
      "text/plain": [
       "      Invoice ID        Date   Time Month Name Branch         Product line  \\\n",
       "764  787-87-2010  2019-01-20  15:48    January      A    Health and beauty   \n",
       "130  191-10-6171  2019-01-25  13:18    January      B  Fashion accessories   \n",
       "460  639-76-1242  2019-02-03  15:19   February      C   Food and beverages   \n",
       "\n",
       "          City Customer type  Gender      Payment  Unit price  Quantity  \\\n",
       "764     Yangon        Member    Male  Credit card       55.50         4   \n",
       "130   Mandalay        Normal  Female         Cash       39.62         7   \n",
       "460  Naypyitaw        Normal    Male         Cash       40.52         5   \n",
       "\n",
       "     Tax 5%   Total    COGS  gross margin percentage  gross income  Rating  \n",
       "764   11.10  233.10  222.00                      4.8         11.10     6.6  \n",
       "130   13.87  291.21  277.34                      4.8         13.87     7.5  \n",
       "460   10.13  212.73  202.60                      4.8         10.13     4.5  "
      ]
     },
     "execution_count": 23,
     "metadata": {},
     "output_type": "execute_result"
    }
   ],
   "source": [
    "df.sample(3)"
   ]
  },
  {
   "cell_type": "markdown",
   "metadata": {},
   "source": [
    "#### what The average price for each product"
   ]
  },
  {
   "cell_type": "code",
   "execution_count": 24,
   "metadata": {},
   "outputs": [
    {
     "data": {
      "text/html": [
       "<div>\n",
       "<style scoped>\n",
       "    .dataframe tbody tr th:only-of-type {\n",
       "        vertical-align: middle;\n",
       "    }\n",
       "\n",
       "    .dataframe tbody tr th {\n",
       "        vertical-align: top;\n",
       "    }\n",
       "\n",
       "    .dataframe thead th {\n",
       "        text-align: right;\n",
       "    }\n",
       "</style>\n",
       "<table border=\"1\" class=\"dataframe\">\n",
       "  <thead>\n",
       "    <tr style=\"text-align: right;\">\n",
       "      <th></th>\n",
       "      <th>Product line</th>\n",
       "      <th>Unit price</th>\n",
       "    </tr>\n",
       "  </thead>\n",
       "  <tbody>\n",
       "    <tr>\n",
       "      <th>0</th>\n",
       "      <td>Fashion accessories</td>\n",
       "      <td>55.88</td>\n",
       "    </tr>\n",
       "    <tr>\n",
       "      <th>1</th>\n",
       "      <td>Sports and travel</td>\n",
       "      <td>55.51</td>\n",
       "    </tr>\n",
       "    <tr>\n",
       "      <th>2</th>\n",
       "      <td>Food and beverages</td>\n",
       "      <td>54.25</td>\n",
       "    </tr>\n",
       "    <tr>\n",
       "      <th>3</th>\n",
       "      <td>Health and beauty</td>\n",
       "      <td>53.90</td>\n",
       "    </tr>\n",
       "    <tr>\n",
       "      <th>4</th>\n",
       "      <td>Home and lifestyle</td>\n",
       "      <td>53.76</td>\n",
       "    </tr>\n",
       "    <tr>\n",
       "      <th>5</th>\n",
       "      <td>Electronic accessories</td>\n",
       "      <td>53.07</td>\n",
       "    </tr>\n",
       "  </tbody>\n",
       "</table>\n",
       "</div>"
      ],
      "text/plain": [
       "             Product line  Unit price\n",
       "0     Fashion accessories       55.88\n",
       "1       Sports and travel       55.51\n",
       "2      Food and beverages       54.25\n",
       "3       Health and beauty       53.90\n",
       "4      Home and lifestyle       53.76\n",
       "5  Electronic accessories       53.07"
      ]
     },
     "execution_count": 24,
     "metadata": {},
     "output_type": "execute_result"
    }
   ],
   "source": [
    "# calculate the average price\n",
    "The_AVG_Price = round(df.groupby(['Product line'])['Unit price'].mean(),2)\n",
    "\n",
    "# Display the result\n",
    "The_AVG_Price.sort_values(ascending=False).reset_index()"
   ]
  },
  {
   "cell_type": "code",
   "execution_count": 25,
   "metadata": {},
   "outputs": [
    {
     "data": {
      "image/png": "[encoded data removed]",
      "text/plain": [
       "<Figure size 640x480 with 1 Axes>"
      ]
     },
     "metadata": {},
     "output_type": "display_data"
    }
   ],
   "source": [
    "# Plotting the pie chart\n",
    "The_AVG_Price.plot(kind='pie', y='Unit Price', x=['Product Line'], autopct='%1.1f%%', startangle=180)\n",
    "\n",
    "# Adding labels and title\n",
    "plt.title('Average Unit Price Distribution by Product Line')\n",
    "\n",
    "# Display the plot\n",
    "plt.show()\n"
   ]
  },
  {
   "cell_type": "markdown",
   "metadata": {},
   "source": [
    "#### what is the total sales for each product"
   ]
  },
  {
   "cell_type": "code",
   "execution_count": 26,
   "metadata": {},
   "outputs": [
    {
     "data": {
      "text/html": [
       "<div>\n",
       "<style scoped>\n",
       "    .dataframe tbody tr th:only-of-type {\n",
       "        vertical-align: middle;\n",
       "    }\n",
       "\n",
       "    .dataframe tbody tr th {\n",
       "        vertical-align: top;\n",
       "    }\n",
       "\n",
       "    .dataframe thead th {\n",
       "        text-align: right;\n",
       "    }\n",
       "</style>\n",
       "<table border=\"1\" class=\"dataframe\">\n",
       "  <thead>\n",
       "    <tr style=\"text-align: right;\">\n",
       "      <th></th>\n",
       "      <th>Product line</th>\n",
       "      <th>Total Sales</th>\n",
       "    </tr>\n",
       "  </thead>\n",
       "  <tbody>\n",
       "    <tr>\n",
       "      <th>0</th>\n",
       "      <td>Electronic accessories</td>\n",
       "      <td>52464.05</td>\n",
       "    </tr>\n",
       "    <tr>\n",
       "      <th>1</th>\n",
       "      <td>Sports and travel</td>\n",
       "      <td>49447.29</td>\n",
       "    </tr>\n",
       "    <tr>\n",
       "      <th>2</th>\n",
       "      <td>Food and beverages</td>\n",
       "      <td>48682.18</td>\n",
       "    </tr>\n",
       "    <tr>\n",
       "      <th>3</th>\n",
       "      <td>Fashion accessories</td>\n",
       "      <td>48518.18</td>\n",
       "    </tr>\n",
       "    <tr>\n",
       "      <th>4</th>\n",
       "      <td>Home and lifestyle</td>\n",
       "      <td>47949.92</td>\n",
       "    </tr>\n",
       "    <tr>\n",
       "      <th>5</th>\n",
       "      <td>Health and beauty</td>\n",
       "      <td>45513.79</td>\n",
       "    </tr>\n",
       "  </tbody>\n",
       "</table>\n",
       "</div>"
      ],
      "text/plain": [
       "             Product line  Total Sales\n",
       "0  Electronic accessories     52464.05\n",
       "1       Sports and travel     49447.29\n",
       "2      Food and beverages     48682.18\n",
       "3     Fashion accessories     48518.18\n",
       "4      Home and lifestyle     47949.92\n",
       "5       Health and beauty     45513.79"
      ]
     },
     "execution_count": 26,
     "metadata": {},
     "output_type": "execute_result"
    }
   ],
   "source": [
    "# Calculate total sales for each product line\n",
    "total_sales_per_product = df.groupby(['Product line'])['Total'].sum()\n",
    "\n",
    "# Rename the Series for clarity\n",
    "total_sales_per_product = total_sales_per_product.rename_axis('Product line').reset_index(name='Total Sales')\n",
    "\n",
    "# Sort the DataFrame by 'Total Sales' in descending order\n",
    "total_sales_per_product = total_sales_per_product.sort_values(by='Total Sales', ascending=False).reset_index(drop=True)\n",
    "\n",
    "# Display the result\n",
    "total_sales_per_product"
   ]
  },
  {
   "cell_type": "code",
   "execution_count": 27,
   "metadata": {},
   "outputs": [
    {
     "data": {
      "image/png": "[encoded data removed]",
      "text/plain": [
       "<Figure size 640x480 with 1 Axes>"
      ]
     },
     "metadata": {},
     "output_type": "display_data"
    }
   ],
   "source": [
    "# Plotting the bar chart\n",
    "total_sales_per_product.sort_values(by='Total Sales', ascending=False).plot(kind='bar', x='Product line', y='Total Sales', legend=False, rot=60)\n",
    "\n",
    "# Adding labels and title\n",
    "plt.xlabel('Product')\n",
    "plt.ylabel('Total Sales')\n",
    "plt.title('Total Sales for Each Product')\n",
    "\n",
    "# Display the plot\n",
    "plt.show()\n"
   ]
  },
  {
   "cell_type": "markdown",
   "metadata": {},
   "source": [
    "#### What is the total profit for each product"
   ]
  },
  {
   "cell_type": "code",
   "execution_count": 28,
   "metadata": {},
   "outputs": [
    {
     "data": {
      "text/html": [
       "<div>\n",
       "<style scoped>\n",
       "    .dataframe tbody tr th:only-of-type {\n",
       "        vertical-align: middle;\n",
       "    }\n",
       "\n",
       "    .dataframe tbody tr th {\n",
       "        vertical-align: top;\n",
       "    }\n",
       "\n",
       "    .dataframe thead th {\n",
       "        text-align: right;\n",
       "    }\n",
       "</style>\n",
       "<table border=\"1\" class=\"dataframe\">\n",
       "  <thead>\n",
       "    <tr style=\"text-align: right;\">\n",
       "      <th></th>\n",
       "      <th>Product line</th>\n",
       "      <th>Total_Profit</th>\n",
       "    </tr>\n",
       "  </thead>\n",
       "  <tbody>\n",
       "    <tr>\n",
       "      <th>0</th>\n",
       "      <td>Electronic accessories</td>\n",
       "      <td>2498.34</td>\n",
       "    </tr>\n",
       "    <tr>\n",
       "      <th>1</th>\n",
       "      <td>Fashion accessories</td>\n",
       "      <td>2310.40</td>\n",
       "    </tr>\n",
       "    <tr>\n",
       "      <th>2</th>\n",
       "      <td>Food and beverages</td>\n",
       "      <td>2318.22</td>\n",
       "    </tr>\n",
       "    <tr>\n",
       "      <th>3</th>\n",
       "      <td>Health and beauty</td>\n",
       "      <td>2167.40</td>\n",
       "    </tr>\n",
       "    <tr>\n",
       "      <th>4</th>\n",
       "      <td>Home and lifestyle</td>\n",
       "      <td>2283.30</td>\n",
       "    </tr>\n",
       "    <tr>\n",
       "      <th>5</th>\n",
       "      <td>Sports and travel</td>\n",
       "      <td>2354.71</td>\n",
       "    </tr>\n",
       "  </tbody>\n",
       "</table>\n",
       "</div>"
      ],
      "text/plain": [
       "             Product line  Total_Profit\n",
       "0  Electronic accessories       2498.34\n",
       "1     Fashion accessories       2310.40\n",
       "2      Food and beverages       2318.22\n",
       "3       Health and beauty       2167.40\n",
       "4      Home and lifestyle       2283.30\n",
       "5       Sports and travel       2354.71"
      ]
     },
     "execution_count": 28,
     "metadata": {},
     "output_type": "execute_result"
    }
   ],
   "source": [
    "\n",
    "# Group by 'Product line' and calculate the total profit\n",
    "Total_Profit = df.groupby(['Product line'])['gross income'].sum()\n",
    "\n",
    "# Rename the Series for clarity\n",
    "Total_Profit = Total_Profit.rename_axis('Product line').reset_index(name='Total_Profit')\n",
    "\n",
    "#sorting this values\n",
    "Total_Profit.sort_values(by='Total_Profit', ascending=False)\n",
    "\n",
    "# Display the result\n",
    "Total_Profit"
   ]
  },
  {
   "cell_type": "code",
   "execution_count": 29,
   "metadata": {},
   "outputs": [
    {
     "data": {
      "image/png": "[encoded data removed]",
      "text/plain": [
       "<Figure size 1000x600 with 1 Axes>"
      ]
     },
     "metadata": {},
     "output_type": "display_data"
    }
   ],
   "source": [
    "# Sort the DataFrame by 'Total_Profit' in descending order\n",
    "Total_Profit = Total_Profit.sort_values(by='Total_Profit', ascending=False)\n",
    "\n",
    "# Plotting the bar chart with Seaborn\n",
    "plt.figure(figsize=(10, 6))  # Adjust the figure size if needed\n",
    "sns.barplot(x='Total_Profit', y='Product line', data=Total_Profit, palette='viridis', hue=True)\n",
    "\n",
    "# Adding labels and title\n",
    "plt.xlabel('Total Profit')\n",
    "plt.ylabel('Product Line')\n",
    "plt.title('Total Profit for Each Product Line')\n",
    "\n",
    "# Display the plot\n",
    "plt.show()"
   ]
  },
  {
   "cell_type": "markdown",
   "metadata": {},
   "source": [
    "#### What is the count sales for each product"
   ]
  },
  {
   "cell_type": "code",
   "execution_count": 30,
   "metadata": {},
   "outputs": [
    {
     "data": {
      "text/html": [
       "<div>\n",
       "<style scoped>\n",
       "    .dataframe tbody tr th:only-of-type {\n",
       "        vertical-align: middle;\n",
       "    }\n",
       "\n",
       "    .dataframe tbody tr th {\n",
       "        vertical-align: top;\n",
       "    }\n",
       "\n",
       "    .dataframe thead th {\n",
       "        text-align: right;\n",
       "    }\n",
       "</style>\n",
       "<table border=\"1\" class=\"dataframe\">\n",
       "  <thead>\n",
       "    <tr style=\"text-align: right;\">\n",
       "      <th></th>\n",
       "      <th>Product line</th>\n",
       "      <th>Total Quantity</th>\n",
       "    </tr>\n",
       "  </thead>\n",
       "  <tbody>\n",
       "    <tr>\n",
       "      <th>0</th>\n",
       "      <td>Electronic accessories</td>\n",
       "      <td>952</td>\n",
       "    </tr>\n",
       "    <tr>\n",
       "      <th>2</th>\n",
       "      <td>Food and beverages</td>\n",
       "      <td>875</td>\n",
       "    </tr>\n",
       "    <tr>\n",
       "      <th>5</th>\n",
       "      <td>Sports and travel</td>\n",
       "      <td>864</td>\n",
       "    </tr>\n",
       "    <tr>\n",
       "      <th>4</th>\n",
       "      <td>Home and lifestyle</td>\n",
       "      <td>852</td>\n",
       "    </tr>\n",
       "    <tr>\n",
       "      <th>1</th>\n",
       "      <td>Fashion accessories</td>\n",
       "      <td>843</td>\n",
       "    </tr>\n",
       "    <tr>\n",
       "      <th>3</th>\n",
       "      <td>Health and beauty</td>\n",
       "      <td>815</td>\n",
       "    </tr>\n",
       "  </tbody>\n",
       "</table>\n",
       "</div>"
      ],
      "text/plain": [
       "             Product line  Total Quantity\n",
       "0  Electronic accessories             952\n",
       "2      Food and beverages             875\n",
       "5       Sports and travel             864\n",
       "4      Home and lifestyle             852\n",
       "1     Fashion accessories             843\n",
       "3       Health and beauty             815"
      ]
     },
     "execution_count": 30,
     "metadata": {},
     "output_type": "execute_result"
    }
   ],
   "source": [
    "# Group by 'Product line' and calculate the total quantity\n",
    "Total_qun = df.groupby(['Product line'])['Quantity'].sum()\n",
    "\n",
    "# Rename the Series for clarity\n",
    "Total_qun = Total_qun.rename_axis('Product line').reset_index(name='Total Quantity')\n",
    "\n",
    "# Sort the DataFrame by 'Total Quantity' in descending order\n",
    "Total_qun_sorted = Total_qun.sort_values(by='Total Quantity', ascending=False)\n",
    "\n",
    "# Display the result\n",
    "Total_qun_sorted"
   ]
  },
  {
   "cell_type": "code",
   "execution_count": 31,
   "metadata": {},
   "outputs": [
    {
     "data": {
      "image/png": "[encoded data removed]",
      "text/plain": [
       "<Figure size 1000x600 with 1 Axes>"
      ]
     },
     "metadata": {},
     "output_type": "display_data"
    }
   ],
   "source": [
    "# Plotting the vertical bar chart with Seaborn\n",
    "plt.figure(figsize=(10, 6))  # Adjust the figure size if needed\n",
    "sns.barplot(x='Product line', y='Total Quantity', data=Total_qun_sorted, palette='Blues_d', hue=True)\n",
    "\n",
    "# Adding labels and title\n",
    "plt.xlabel('Product Line')\n",
    "plt.ylabel('Total Quantity')\n",
    "plt.title('Total Quantity for Each Product Line')\n",
    "\n",
    "# Rotate x-axis labels for better readability\n",
    "plt.xticks(rotation=45)\n",
    "\n",
    "# Display the plot\n",
    "plt.show()\n",
    "\n"
   ]
  },
  {
   "cell_type": "markdown",
   "metadata": {},
   "source": [
    "#### What is the average riting for each product"
   ]
  },
  {
   "cell_type": "code",
   "execution_count": 32,
   "metadata": {},
   "outputs": [
    {
     "data": {
      "text/html": [
       "<div>\n",
       "<style scoped>\n",
       "    .dataframe tbody tr th:only-of-type {\n",
       "        vertical-align: middle;\n",
       "    }\n",
       "\n",
       "    .dataframe tbody tr th {\n",
       "        vertical-align: top;\n",
       "    }\n",
       "\n",
       "    .dataframe thead th {\n",
       "        text-align: right;\n",
       "    }\n",
       "</style>\n",
       "<table border=\"1\" class=\"dataframe\">\n",
       "  <thead>\n",
       "    <tr style=\"text-align: right;\">\n",
       "      <th></th>\n",
       "      <th>Product line</th>\n",
       "      <th>AVG Rating</th>\n",
       "    </tr>\n",
       "  </thead>\n",
       "  <tbody>\n",
       "    <tr>\n",
       "      <th>2</th>\n",
       "      <td>Food and beverages</td>\n",
       "      <td>7.09</td>\n",
       "    </tr>\n",
       "    <tr>\n",
       "      <th>1</th>\n",
       "      <td>Fashion accessories</td>\n",
       "      <td>7.02</td>\n",
       "    </tr>\n",
       "    <tr>\n",
       "      <th>3</th>\n",
       "      <td>Health and beauty</td>\n",
       "      <td>7.00</td>\n",
       "    </tr>\n",
       "    <tr>\n",
       "      <th>0</th>\n",
       "      <td>Electronic accessories</td>\n",
       "      <td>6.93</td>\n",
       "    </tr>\n",
       "    <tr>\n",
       "      <th>5</th>\n",
       "      <td>Sports and travel</td>\n",
       "      <td>6.92</td>\n",
       "    </tr>\n",
       "    <tr>\n",
       "      <th>4</th>\n",
       "      <td>Home and lifestyle</td>\n",
       "      <td>6.85</td>\n",
       "    </tr>\n",
       "  </tbody>\n",
       "</table>\n",
       "</div>"
      ],
      "text/plain": [
       "             Product line  AVG Rating\n",
       "2      Food and beverages        7.09\n",
       "1     Fashion accessories        7.02\n",
       "3       Health and beauty        7.00\n",
       "0  Electronic accessories        6.93\n",
       "5       Sports and travel        6.92\n",
       "4      Home and lifestyle        6.85"
      ]
     },
     "execution_count": 32,
     "metadata": {},
     "output_type": "execute_result"
    }
   ],
   "source": [
    "# Calculate the mean rating for each product line and round to 2 decimal places\n",
    "average_rating = round(df.groupby('Product line')['Rating'].mean(), 2)\n",
    "\n",
    "# Rename the index to 'Product line' and reset the index, renaming the column to 'AVG Rating'\n",
    "average_rating = average_rating.rename_axis('Product line').reset_index(name='AVG Rating')\n",
    "\n",
    "# Sort the dataframe by 'AVG Rating' in descending order\n",
    "sorted_ratings = average_rating.sort_values(by='AVG Rating', ascending=False)\n",
    "\n",
    "# Display the resulting dataframe\n",
    "sorted_ratings\n",
    "\n"
   ]
  },
  {
   "cell_type": "code",
   "execution_count": 33,
   "metadata": {},
   "outputs": [
    {
     "data": {
      "application/vnd.plotly.v1+json": {
       "config": {
        "plotlyServerURL": "https://plot.ly"
       },
       "data": [
        {
         "alignmentgroup": "True",
         "hovertemplate": "Product line=%{x}<br>AVG Rating=%{y}<extra></extra>",
         "legendgroup": "",
         "marker": {
          "color": "#636efa",
          "pattern": {
           "shape": ""
          }
         },
         "name": "",
         "offsetgroup": "",
         "orientation": "v",
         "showlegend": false,
         "textposition": "auto",
         "type": "bar",
         "x": [
          "Food and beverages",
          "Fashion accessories",
          "Health and beauty",
          "Electronic accessories",
          "Sports and travel",
          "Home and lifestyle"
         ],
         "xaxis": "x",
         "y": [
          7.09,
          7.02,
          7,
          6.93,
          6.92,
          6.85
         ],
         "yaxis": "y"
        }
       ],
       "layout": {
        "barmode": "relative",
        "legend": {
         "tracegroupgap": 0
        },
        "template": {
         "data": {
          "bar": [
           {
            "error_x": {
             "color": "#2a3f5f"
            },
            "error_y": {
             "color": "#2a3f5f"
            },
            "marker": {
             "line": {
              "color": "#E5ECF6",
              "width": 0.5
             },
             "pattern": {
              "fillmode": "overlay",
              "size": 10,
              "solidity": 0.2
             }
            },
            "type": "bar"
           }
          ],
          "barpolar": [
           {
            "marker": {
             "line": {
              "color": "#E5ECF6",
              "width": 0.5
             },
             "pattern": {
              "fillmode": "overlay",
              "size": 10,
              "solidity": 0.2
             }
            },
            "type": "barpolar"
           }
          ],
          "carpet": [
           {
            "aaxis": {
             "endlinecolor": "#2a3f5f",
             "gridcolor": "white",
             "linecolor": "white",
             "minorgridcolor": "white",
             "startlinecolor": "#2a3f5f"
            },
            "baxis": {
             "endlinecolor": "#2a3f5f",
             "gridcolor": "white",
             "linecolor": "white",
             "minorgridcolor": "white",
             "startlinecolor": "#2a3f5f"
            },
            "type": "carpet"
           }
          ],
          "choropleth": [
           {
            "colorbar": {
             "outlinewidth": 0,
             "ticks": ""
            },
            "type": "choropleth"
           }
          ],
          "contour": [
           {
            "colorbar": {
             "outlinewidth": 0,
             "ticks": ""
            },
            "colorscale": [
             [
              0,
              "#0d0887"
             ],
             [
              0.1111111111111111,
              "#46039f"
             ],
             [
              0.2222222222222222,
              "#7201a8"
             ],
             [
              0.3333333333333333,
              "#9c179e"
             ],
             [
              0.4444444444444444,
              "#bd3786"
             ],
             [
              0.5555555555555556,
              "#d8576b"
             ],
             [
              0.6666666666666666,
              "#ed7953"
             ],
             [
              0.7777777777777778,
              "#fb9f3a"
             ],
             [
              0.8888888888888888,
              "#fdca26"
             ],
             [
              1,
              "#f0f921"
             ]
            ],
            "type": "contour"
           }
          ],
          "contourcarpet": [
           {
            "colorbar": {
             "outlinewidth": 0,
             "ticks": ""
            },
            "type": "contourcarpet"
           }
          ],
          "heatmap": [
           {
            "colorbar": {
             "outlinewidth": 0,
             "ticks": ""
            },
            "colorscale": [
             [
              0,
              "#0d0887"
             ],
             [
              0.1111111111111111,
              "#46039f"
             ],
             [
              0.2222222222222222,
              "#7201a8"
             ],
             [
              0.3333333333333333,
              "#9c179e"
             ],
             [
              0.4444444444444444,
              "#bd3786"
             ],
             [
              0.5555555555555556,
              "#d8576b"
             ],
             [
              0.6666666666666666,
              "#ed7953"
             ],
             [
              0.7777777777777778,
              "#fb9f3a"
             ],
             [
              0.8888888888888888,
              "#fdca26"
             ],
             [
              1,
              "#f0f921"
             ]
            ],
            "type": "heatmap"
           }
          ],
          "heatmapgl": [
           {
            "colorbar": {
             "outlinewidth": 0,
             "ticks": ""
            },
            "colorscale": [
             [
              0,
              "#0d0887"
             ],
             [
              0.1111111111111111,
              "#46039f"
             ],
             [
              0.2222222222222222,
              "#7201a8"
             ],
             [
              0.3333333333333333,
              "#9c179e"
             ],
             [
              0.4444444444444444,
              "#bd3786"
             ],
             [
              0.5555555555555556,
              "#d8576b"
             ],
             [
              0.6666666666666666,
              "#ed7953"
             ],
             [
              0.7777777777777778,
              "#fb9f3a"
             ],
             [
              0.8888888888888888,
              "#fdca26"
             ],
             [
              1,
              "#f0f921"
             ]
            ],
            "type": "heatmapgl"
           }
          ],
          "histogram": [
           {
            "marker": {
             "pattern": {
              "fillmode": "overlay",
              "size": 10,
              "solidity": 0.2
             }
            },
            "type": "histogram"
           }
          ],
          "histogram2d": [
           {
            "colorbar": {
             "outlinewidth": 0,
             "ticks": ""
            },
            "colorscale": [
             [
              0,
              "#0d0887"
             ],
             [
              0.1111111111111111,
              "#46039f"
             ],
             [
              0.2222222222222222,
              "#7201a8"
             ],
             [
              0.3333333333333333,
              "#9c179e"
             ],
             [
              0.4444444444444444,
              "#bd3786"
             ],
             [
              0.5555555555555556,
              "#d8576b"
             ],
             [
              0.6666666666666666,
              "#ed7953"
             ],
             [
              0.7777777777777778,
              "#fb9f3a"
             ],
             [
              0.8888888888888888,
              "#fdca26"
             ],
             [
              1,
              "#f0f921"
             ]
            ],
            "type": "histogram2d"
           }
          ],
          "histogram2dcontour": [
           {
            "colorbar": {
             "outlinewidth": 0,
             "ticks": ""
            },
            "colorscale": [
             [
              0,
              "#0d0887"
             ],
             [
              0.1111111111111111,
              "#46039f"
             ],
             [
              0.2222222222222222,
              "#7201a8"
             ],
             [
              0.3333333333333333,
              "#9c179e"
             ],
             [
              0.4444444444444444,
              "#bd3786"
             ],
             [
              0.5555555555555556,
              "#d8576b"
             ],
             [
              0.6666666666666666,
              "#ed7953"
             ],
             [
              0.7777777777777778,
              "#fb9f3a"
             ],
             [
              0.8888888888888888,
              "#fdca26"
             ],
             [
              1,
              "#f0f921"
             ]
            ],
            "type": "histogram2dcontour"
           }
          ],
          "mesh3d": [
           {
            "colorbar": {
             "outlinewidth": 0,
             "ticks": ""
            },
            "type": "mesh3d"
           }
          ],
          "parcoords": [
           {
            "line": {
             "colorbar": {
              "outlinewidth": 0,
              "ticks": ""
             }
            },
            "type": "parcoords"
           }
          ],
          "pie": [
           {
            "automargin": true,
            "type": "pie"
           }
          ],
          "scatter": [
           {
            "fillpattern": {
             "fillmode": "overlay",
             "size": 10,
             "solidity": 0.2
            },
            "type": "scatter"
           }
          ],
          "scatter3d": [
           {
            "line": {
             "colorbar": {
              "outlinewidth": 0,
              "ticks": ""
             }
            },
            "marker": {
             "colorbar": {
              "outlinewidth": 0,
              "ticks": ""
             }
            },
            "type": "scatter3d"
           }
          ],
          "scattercarpet": [
           {
            "marker": {
             "colorbar": {
              "outlinewidth": 0,
              "ticks": ""
             }
            },
            "type": "scattercarpet"
           }
          ],
          "scattergeo": [
           {
            "marker": {
             "colorbar": {
              "outlinewidth": 0,
              "ticks": ""
             }
            },
            "type": "scattergeo"
           }
          ],
          "scattergl": [
           {
            "marker": {
             "colorbar": {
              "outlinewidth": 0,
              "ticks": ""
             }
            },
            "type": "scattergl"
           }
          ],
          "scattermapbox": [
           {
            "marker": {
             "colorbar": {
              "outlinewidth": 0,
              "ticks": ""
             }
            },
            "type": "scattermapbox"
           }
          ],
          "scatterpolar": [
           {
            "marker": {
             "colorbar": {
              "outlinewidth": 0,
              "ticks": ""
             }
            },
            "type": "scatterpolar"
           }
          ],
          "scatterpolargl": [
           {
            "marker": {
             "colorbar": {
              "outlinewidth": 0,
              "ticks": ""
             }
            },
            "type": "scatterpolargl"
           }
          ],
          "scatterternary": [
           {
            "marker": {
             "colorbar": {
              "outlinewidth": 0,
              "ticks": ""
             }
            },
            "type": "scatterternary"
           }
          ],
          "surface": [
           {
            "colorbar": {
             "outlinewidth": 0,
             "ticks": ""
            },
            "colorscale": [
             [
              0,
              "#0d0887"
             ],
             [
              0.1111111111111111,
              "#46039f"
             ],
             [
              0.2222222222222222,
              "#7201a8"
             ],
             [
              0.3333333333333333,
              "#9c179e"
             ],
             [
              0.4444444444444444,
              "#bd3786"
             ],
             [
              0.5555555555555556,
              "#d8576b"
             ],
             [
              0.6666666666666666,
              "#ed7953"
             ],
             [
              0.7777777777777778,
              "#fb9f3a"
             ],
             [
              0.8888888888888888,
              "#fdca26"
             ],
             [
              1,
              "#f0f921"
             ]
            ],
            "type": "surface"
           }
          ],
          "table": [
           {
            "cells": {
             "fill": {
              "color": "#EBF0F8"
             },
             "line": {
              "color": "white"
             }
            },
            "header": {
             "fill": {
              "color": "#C8D4E3"
             },
             "line": {
              "color": "white"
             }
            },
            "type": "table"
           }
          ]
         },
         "layout": {
          "annotationdefaults": {
           "arrowcolor": "#2a3f5f",
           "arrowhead": 0,
           "arrowwidth": 1
          },
          "autotypenumbers": "strict",
          "coloraxis": {
           "colorbar": {
            "outlinewidth": 0,
            "ticks": ""
           }
          },
          "colorscale": {
           "diverging": [
            [
             0,
             "#8e0152"
            ],
            [
             0.1,
             "#c51b7d"
            ],
            [
             0.2,
             "#de77ae"
            ],
            [
             0.3,
             "#f1b6da"
            ],
            [
             0.4,
             "#fde0ef"
            ],
            [
             0.5,
             "#f7f7f7"
            ],
            [
             0.6,
             "#e6f5d0"
            ],
            [
             0.7,
             "#b8e186"
            ],
            [
             0.8,
             "#7fbc41"
            ],
            [
             0.9,
             "#4d9221"
            ],
            [
             1,
             "#276419"
            ]
           ],
           "sequential": [
            [
             0,
             "#0d0887"
            ],
            [
             0.1111111111111111,
             "#46039f"
            ],
            [
             0.2222222222222222,
             "#7201a8"
            ],
            [
             0.3333333333333333,
             "#9c179e"
            ],
            [
             0.4444444444444444,
             "#bd3786"
            ],
            [
             0.5555555555555556,
             "#d8576b"
            ],
            [
             0.6666666666666666,
             "#ed7953"
            ],
            [
             0.7777777777777778,
             "#fb9f3a"
            ],
            [
             0.8888888888888888,
             "#fdca26"
            ],
            [
             1,
             "#f0f921"
            ]
           ],
           "sequentialminus": [
            [
             0,
             "#0d0887"
            ],
            [
             0.1111111111111111,
             "#46039f"
            ],
            [
             0.2222222222222222,
             "#7201a8"
            ],
            [
             0.3333333333333333,
             "#9c179e"
            ],
            [
             0.4444444444444444,
             "#bd3786"
            ],
            [
             0.5555555555555556,
             "#d8576b"
            ],
            [
             0.6666666666666666,
             "#ed7953"
            ],
            [
             0.7777777777777778,
             "#fb9f3a"
            ],
            [
             0.8888888888888888,
             "#fdca26"
            ],
            [
             1,
             "#f0f921"
            ]
           ]
          },
          "colorway": [
           "#636efa",
           "#EF553B",
           "#00cc96",
           "#ab63fa",
           "#FFA15A",
           "#19d3f3",
           "#FF6692",
           "#B6E880",
           "#FF97FF",
           "#FECB52"
          ],
          "font": {
           "color": "#2a3f5f"
          },
          "geo": {
           "bgcolor": "white",
           "lakecolor": "white",
           "landcolor": "#E5ECF6",
           "showlakes": true,
           "showland": true,
           "subunitcolor": "white"
          },
          "hoverlabel": {
           "align": "left"
          },
          "hovermode": "closest",
          "mapbox": {
           "style": "light"
          },
          "paper_bgcolor": "white",
          "plot_bgcolor": "#E5ECF6",
          "polar": {
           "angularaxis": {
            "gridcolor": "white",
            "linecolor": "white",
            "ticks": ""
           },
           "bgcolor": "#E5ECF6",
           "radialaxis": {
            "gridcolor": "white",
            "linecolor": "white",
            "ticks": ""
           }
          },
          "scene": {
           "xaxis": {
            "backgroundcolor": "#E5ECF6",
            "gridcolor": "white",
            "gridwidth": 2,
            "linecolor": "white",
            "showbackground": true,
            "ticks": "",
            "zerolinecolor": "white"
           },
           "yaxis": {
            "backgroundcolor": "#E5ECF6",
            "gridcolor": "white",
            "gridwidth": 2,
            "linecolor": "white",
            "showbackground": true,
            "ticks": "",
            "zerolinecolor": "white"
           },
           "zaxis": {
            "backgroundcolor": "#E5ECF6",
            "gridcolor": "white",
            "gridwidth": 2,
            "linecolor": "white",
            "showbackground": true,
            "ticks": "",
            "zerolinecolor": "white"
           }
          },
          "shapedefaults": {
           "line": {
            "color": "#2a3f5f"
           }
          },
          "ternary": {
           "aaxis": {
            "gridcolor": "white",
            "linecolor": "white",
            "ticks": ""
           },
           "baxis": {
            "gridcolor": "white",
            "linecolor": "white",
            "ticks": ""
           },
           "bgcolor": "#E5ECF6",
           "caxis": {
            "gridcolor": "white",
            "linecolor": "white",
            "ticks": ""
           }
          },
          "title": {
           "x": 0.05
          },
          "xaxis": {
           "automargin": true,
           "gridcolor": "white",
           "linecolor": "white",
           "ticks": "",
           "title": {
            "standoff": 15
           },
           "zerolinecolor": "white",
           "zerolinewidth": 2
          },
          "yaxis": {
           "automargin": true,
           "gridcolor": "white",
           "linecolor": "white",
           "ticks": "",
           "title": {
            "standoff": 15
           },
           "zerolinecolor": "white",
           "zerolinewidth": 2
          }
         }
        },
        "title": {
         "text": "Average Ratings by Product Line"
        },
        "xaxis": {
         "anchor": "y",
         "domain": [
          0,
          1
         ],
         "title": {
          "text": "Product line"
         }
        },
        "yaxis": {
         "anchor": "x",
         "domain": [
          0,
          1
         ],
         "title": {
          "text": "AVG Rating"
         }
        }
       }
      }
     },
     "metadata": {},
     "output_type": "display_data"
    }
   ],
   "source": [
    "# Visualization using a pie chart\n",
    "fig = px.bar(sorted_ratings, x='Product line', y='AVG Rating', title='Average Ratings by Product Line')\n",
    "\n",
    "# Show the plot\n",
    "fig.show()"
   ]
  },
  {
   "cell_type": "code",
   "execution_count": 34,
   "metadata": {},
   "outputs": [
    {
     "data": {
      "text/html": [
       "<div>\n",
       "<style scoped>\n",
       "    .dataframe tbody tr th:only-of-type {\n",
       "        vertical-align: middle;\n",
       "    }\n",
       "\n",
       "    .dataframe tbody tr th {\n",
       "        vertical-align: top;\n",
       "    }\n",
       "\n",
       "    .dataframe thead th {\n",
       "        text-align: right;\n",
       "    }\n",
       "</style>\n",
       "<table border=\"1\" class=\"dataframe\">\n",
       "  <thead>\n",
       "    <tr style=\"text-align: right;\">\n",
       "      <th>Gender</th>\n",
       "      <th>Female</th>\n",
       "      <th>Male</th>\n",
       "    </tr>\n",
       "    <tr>\n",
       "      <th>Product line</th>\n",
       "      <th></th>\n",
       "      <th></th>\n",
       "    </tr>\n",
       "  </thead>\n",
       "  <tbody>\n",
       "    <tr>\n",
       "      <th>Electronic accessories</th>\n",
       "      <td>83</td>\n",
       "      <td>85</td>\n",
       "    </tr>\n",
       "    <tr>\n",
       "      <th>Fashion accessories</th>\n",
       "      <td>92</td>\n",
       "      <td>80</td>\n",
       "    </tr>\n",
       "    <tr>\n",
       "      <th>Food and beverages</th>\n",
       "      <td>84</td>\n",
       "      <td>82</td>\n",
       "    </tr>\n",
       "    <tr>\n",
       "      <th>Health and beauty</th>\n",
       "      <td>64</td>\n",
       "      <td>84</td>\n",
       "    </tr>\n",
       "    <tr>\n",
       "      <th>Home and lifestyle</th>\n",
       "      <td>76</td>\n",
       "      <td>78</td>\n",
       "    </tr>\n",
       "    <tr>\n",
       "      <th>Sports and travel</th>\n",
       "      <td>85</td>\n",
       "      <td>75</td>\n",
       "    </tr>\n",
       "  </tbody>\n",
       "</table>\n",
       "</div>"
      ],
      "text/plain": [
       "Gender                  Female  Male\n",
       "Product line                        \n",
       "Electronic accessories      83    85\n",
       "Fashion accessories         92    80\n",
       "Food and beverages          84    82\n",
       "Health and beauty           64    84\n",
       "Home and lifestyle          76    78\n",
       "Sports and travel           85    75"
      ]
     },
     "execution_count": 34,
     "metadata": {},
     "output_type": "execute_result"
    }
   ],
   "source": [
    "# Group by 'Product line' and count the occurrences of each 'Gender'\n",
    "gender_counts = df.groupby(['Product line'])['Gender'].value_counts().unstack(fill_value=0)\n",
    "\n",
    "# Display the resulting DataFrame\n",
    "gender_counts"
   ]
  },
  {
   "cell_type": "code",
   "execution_count": 35,
   "metadata": {},
   "outputs": [
    {
     "data": {
      "text/html": [
       "<div>\n",
       "<style scoped>\n",
       "    .dataframe tbody tr th:only-of-type {\n",
       "        vertical-align: middle;\n",
       "    }\n",
       "\n",
       "    .dataframe tbody tr th {\n",
       "        vertical-align: top;\n",
       "    }\n",
       "\n",
       "    .dataframe thead th {\n",
       "        text-align: right;\n",
       "    }\n",
       "</style>\n",
       "<table border=\"1\" class=\"dataframe\">\n",
       "  <thead>\n",
       "    <tr style=\"text-align: right;\">\n",
       "      <th></th>\n",
       "      <th>Product line</th>\n",
       "      <th>Month Name</th>\n",
       "      <th>Profit</th>\n",
       "    </tr>\n",
       "  </thead>\n",
       "  <tbody>\n",
       "    <tr>\n",
       "      <th>0</th>\n",
       "      <td>Electronic accessories</td>\n",
       "      <td>February</td>\n",
       "      <td>826.81</td>\n",
       "    </tr>\n",
       "    <tr>\n",
       "      <th>1</th>\n",
       "      <td>Electronic accessories</td>\n",
       "      <td>January</td>\n",
       "      <td>852.41</td>\n",
       "    </tr>\n",
       "    <tr>\n",
       "      <th>2</th>\n",
       "      <td>Electronic accessories</td>\n",
       "      <td>March</td>\n",
       "      <td>819.12</td>\n",
       "    </tr>\n",
       "    <tr>\n",
       "      <th>3</th>\n",
       "      <td>Fashion accessories</td>\n",
       "      <td>February</td>\n",
       "      <td>757.48</td>\n",
       "    </tr>\n",
       "    <tr>\n",
       "      <th>4</th>\n",
       "      <td>Fashion accessories</td>\n",
       "      <td>January</td>\n",
       "      <td>879.58</td>\n",
       "    </tr>\n",
       "    <tr>\n",
       "      <th>5</th>\n",
       "      <td>Fashion accessories</td>\n",
       "      <td>March</td>\n",
       "      <td>673.34</td>\n",
       "    </tr>\n",
       "    <tr>\n",
       "      <th>6</th>\n",
       "      <td>Food and beverages</td>\n",
       "      <td>February</td>\n",
       "      <td>819.85</td>\n",
       "    </tr>\n",
       "    <tr>\n",
       "      <th>7</th>\n",
       "      <td>Food and beverages</td>\n",
       "      <td>January</td>\n",
       "      <td>753.67</td>\n",
       "    </tr>\n",
       "    <tr>\n",
       "      <th>8</th>\n",
       "      <td>Food and beverages</td>\n",
       "      <td>March</td>\n",
       "      <td>744.70</td>\n",
       "    </tr>\n",
       "    <tr>\n",
       "      <th>9</th>\n",
       "      <td>Health and beauty</td>\n",
       "      <td>February</td>\n",
       "      <td>653.07</td>\n",
       "    </tr>\n",
       "    <tr>\n",
       "      <th>10</th>\n",
       "      <td>Health and beauty</td>\n",
       "      <td>January</td>\n",
       "      <td>734.92</td>\n",
       "    </tr>\n",
       "    <tr>\n",
       "      <th>11</th>\n",
       "      <td>Health and beauty</td>\n",
       "      <td>March</td>\n",
       "      <td>779.41</td>\n",
       "    </tr>\n",
       "    <tr>\n",
       "      <th>12</th>\n",
       "      <td>Home and lifestyle</td>\n",
       "      <td>February</td>\n",
       "      <td>592.10</td>\n",
       "    </tr>\n",
       "    <tr>\n",
       "      <th>13</th>\n",
       "      <td>Home and lifestyle</td>\n",
       "      <td>January</td>\n",
       "      <td>830.70</td>\n",
       "    </tr>\n",
       "    <tr>\n",
       "      <th>14</th>\n",
       "      <td>Home and lifestyle</td>\n",
       "      <td>March</td>\n",
       "      <td>860.50</td>\n",
       "    </tr>\n",
       "    <tr>\n",
       "      <th>15</th>\n",
       "      <td>Sports and travel</td>\n",
       "      <td>February</td>\n",
       "      <td>613.49</td>\n",
       "    </tr>\n",
       "    <tr>\n",
       "      <th>16</th>\n",
       "      <td>Sports and travel</td>\n",
       "      <td>January</td>\n",
       "      <td>939.17</td>\n",
       "    </tr>\n",
       "    <tr>\n",
       "      <th>17</th>\n",
       "      <td>Sports and travel</td>\n",
       "      <td>March</td>\n",
       "      <td>802.05</td>\n",
       "    </tr>\n",
       "  </tbody>\n",
       "</table>\n",
       "</div>"
      ],
      "text/plain": [
       "              Product line Month Name  Profit\n",
       "0   Electronic accessories   February  826.81\n",
       "1   Electronic accessories    January  852.41\n",
       "2   Electronic accessories      March  819.12\n",
       "3      Fashion accessories   February  757.48\n",
       "4      Fashion accessories    January  879.58\n",
       "5      Fashion accessories      March  673.34\n",
       "6       Food and beverages   February  819.85\n",
       "7       Food and beverages    January  753.67\n",
       "8       Food and beverages      March  744.70\n",
       "9        Health and beauty   February  653.07\n",
       "10       Health and beauty    January  734.92\n",
       "11       Health and beauty      March  779.41\n",
       "12      Home and lifestyle   February  592.10\n",
       "13      Home and lifestyle    January  830.70\n",
       "14      Home and lifestyle      March  860.50\n",
       "15       Sports and travel   February  613.49\n",
       "16       Sports and travel    January  939.17\n",
       "17       Sports and travel      March  802.05"
      ]
     },
     "execution_count": 35,
     "metadata": {},
     "output_type": "execute_result"
    }
   ],
   "source": [
    "# Group by 'Product line' and 'Month Name', and sum the 'gross income'\n",
    "monthly_gross_income = df.groupby(['Product line', 'Month Name'])['gross income'].sum()\n",
    "\n",
    "# Reset the index and rename the resulting column to 'Profit'\n",
    "monthly_gross_income = monthly_gross_income.reset_index(name='Profit')\n",
    "\n",
    "# Display the resulting DataFrame\n",
    "monthly_gross_income\n",
    "\n"
   ]
  },
  {
   "cell_type": "code",
   "execution_count": 36,
   "metadata": {},
   "outputs": [
    {
     "data": {
      "image/png": "[encoded data removed]",
      "text/plain": [
       "<Figure size 1200x600 with 1 Axes>"
      ]
     },
     "metadata": {},
     "output_type": "display_data"
    }
   ],
   "source": [
    "# Create a bar plot using Seaborn\n",
    "plt.figure(figsize=(12, 6))\n",
    "sns.barplot(x='Month Name', y='Profit', hue='Product line', data=monthly_gross_income)\n",
    "\n",
    "# Set plot labels and title\n",
    "plt.xlabel('Month')\n",
    "plt.ylabel('Profit')\n",
    "plt.title('Monthly Gross Income by Product Line')\n",
    "\n",
    "# Show the legend\n",
    "plt.legend(title='Product Line', bbox_to_anchor=(1, 1))\n",
    "\n",
    "# Show the plot\n",
    "plt.show()"
   ]
  },
  {
   "cell_type": "code",
   "execution_count": 37,
   "metadata": {},
   "outputs": [
    {
     "data": {
      "text/html": [
       "<div>\n",
       "<style scoped>\n",
       "    .dataframe tbody tr th:only-of-type {\n",
       "        vertical-align: middle;\n",
       "    }\n",
       "\n",
       "    .dataframe tbody tr th {\n",
       "        vertical-align: top;\n",
       "    }\n",
       "\n",
       "    .dataframe thead th {\n",
       "        text-align: right;\n",
       "    }\n",
       "</style>\n",
       "<table border=\"1\" class=\"dataframe\">\n",
       "  <thead>\n",
       "    <tr style=\"text-align: right;\">\n",
       "      <th></th>\n",
       "      <th>Product line</th>\n",
       "      <th>Month Name</th>\n",
       "      <th>Total Sales</th>\n",
       "    </tr>\n",
       "  </thead>\n",
       "  <tbody>\n",
       "    <tr>\n",
       "      <th>0</th>\n",
       "      <td>Electronic accessories</td>\n",
       "      <td>February</td>\n",
       "      <td>17362.90</td>\n",
       "    </tr>\n",
       "    <tr>\n",
       "      <th>1</th>\n",
       "      <td>Electronic accessories</td>\n",
       "      <td>January</td>\n",
       "      <td>17900.26</td>\n",
       "    </tr>\n",
       "    <tr>\n",
       "      <th>2</th>\n",
       "      <td>Electronic accessories</td>\n",
       "      <td>March</td>\n",
       "      <td>17200.89</td>\n",
       "    </tr>\n",
       "    <tr>\n",
       "      <th>3</th>\n",
       "      <td>Fashion accessories</td>\n",
       "      <td>February</td>\n",
       "      <td>15907.22</td>\n",
       "    </tr>\n",
       "    <tr>\n",
       "      <th>4</th>\n",
       "      <td>Fashion accessories</td>\n",
       "      <td>January</td>\n",
       "      <td>18470.97</td>\n",
       "    </tr>\n",
       "    <tr>\n",
       "      <th>5</th>\n",
       "      <td>Fashion accessories</td>\n",
       "      <td>March</td>\n",
       "      <td>14139.99</td>\n",
       "    </tr>\n",
       "    <tr>\n",
       "      <th>6</th>\n",
       "      <td>Food and beverages</td>\n",
       "      <td>February</td>\n",
       "      <td>17216.87</td>\n",
       "    </tr>\n",
       "    <tr>\n",
       "      <th>7</th>\n",
       "      <td>Food and beverages</td>\n",
       "      <td>January</td>\n",
       "      <td>15826.63</td>\n",
       "    </tr>\n",
       "    <tr>\n",
       "      <th>8</th>\n",
       "      <td>Food and beverages</td>\n",
       "      <td>March</td>\n",
       "      <td>15638.68</td>\n",
       "    </tr>\n",
       "    <tr>\n",
       "      <th>9</th>\n",
       "      <td>Health and beauty</td>\n",
       "      <td>February</td>\n",
       "      <td>13713.86</td>\n",
       "    </tr>\n",
       "    <tr>\n",
       "      <th>10</th>\n",
       "      <td>Health and beauty</td>\n",
       "      <td>January</td>\n",
       "      <td>15432.95</td>\n",
       "    </tr>\n",
       "    <tr>\n",
       "      <th>11</th>\n",
       "      <td>Health and beauty</td>\n",
       "      <td>March</td>\n",
       "      <td>16366.98</td>\n",
       "    </tr>\n",
       "    <tr>\n",
       "      <th>12</th>\n",
       "      <td>Home and lifestyle</td>\n",
       "      <td>February</td>\n",
       "      <td>12434.37</td>\n",
       "    </tr>\n",
       "    <tr>\n",
       "      <th>13</th>\n",
       "      <td>Home and lifestyle</td>\n",
       "      <td>January</td>\n",
       "      <td>17445.00</td>\n",
       "    </tr>\n",
       "    <tr>\n",
       "      <th>14</th>\n",
       "      <td>Home and lifestyle</td>\n",
       "      <td>March</td>\n",
       "      <td>18070.55</td>\n",
       "    </tr>\n",
       "    <tr>\n",
       "      <th>15</th>\n",
       "      <td>Sports and travel</td>\n",
       "      <td>February</td>\n",
       "      <td>12882.68</td>\n",
       "    </tr>\n",
       "    <tr>\n",
       "      <th>16</th>\n",
       "      <td>Sports and travel</td>\n",
       "      <td>January</td>\n",
       "      <td>19722.02</td>\n",
       "    </tr>\n",
       "    <tr>\n",
       "      <th>17</th>\n",
       "      <td>Sports and travel</td>\n",
       "      <td>March</td>\n",
       "      <td>16842.59</td>\n",
       "    </tr>\n",
       "  </tbody>\n",
       "</table>\n",
       "</div>"
      ],
      "text/plain": [
       "              Product line Month Name  Total Sales\n",
       "0   Electronic accessories   February     17362.90\n",
       "1   Electronic accessories    January     17900.26\n",
       "2   Electronic accessories      March     17200.89\n",
       "3      Fashion accessories   February     15907.22\n",
       "4      Fashion accessories    January     18470.97\n",
       "5      Fashion accessories      March     14139.99\n",
       "6       Food and beverages   February     17216.87\n",
       "7       Food and beverages    January     15826.63\n",
       "8       Food and beverages      March     15638.68\n",
       "9        Health and beauty   February     13713.86\n",
       "10       Health and beauty    January     15432.95\n",
       "11       Health and beauty      March     16366.98\n",
       "12      Home and lifestyle   February     12434.37\n",
       "13      Home and lifestyle    January     17445.00\n",
       "14      Home and lifestyle      March     18070.55\n",
       "15       Sports and travel   February     12882.68\n",
       "16       Sports and travel    January     19722.02\n",
       "17       Sports and travel      March     16842.59"
      ]
     },
     "execution_count": 37,
     "metadata": {},
     "output_type": "execute_result"
    }
   ],
   "source": [
    "# Group by 'Product line' and 'Month Name', and sum the 'gross income'\n",
    "monthly_gross_Sales = df.groupby(['Product line', 'Month Name'])['Total'].sum()\n",
    "\n",
    "# Reset the index and rename the resulting column to 'Profit'\n",
    "monthly_gross_Sales = monthly_gross_Sales.reset_index(name='Total Sales')\n",
    "\n",
    "# Display the resulting DataFrame\n",
    "monthly_gross_Sales"
   ]
  },
  {
   "cell_type": "code",
   "execution_count": 38,
   "metadata": {},
   "outputs": [
    {
     "data": {
      "image/png": "[encoded data removed]",
      "text/plain": [
       "<Figure size 1200x600 with 1 Axes>"
      ]
     },
     "metadata": {},
     "output_type": "display_data"
    }
   ],
   "source": [
    "# Create a bar plot using Seaborn\n",
    "plt.figure(figsize=(12, 6))\n",
    "sns.barplot(x='Month Name', y='Total Sales', hue='Product line', data=monthly_gross_Sales)\n",
    "\n",
    "# Set plot labels and title\n",
    "plt.xlabel('Month')\n",
    "plt.ylabel('Total Sales')\n",
    "plt.title('Monthly Gross Income by Product Line')\n",
    "\n",
    "# Show the legend\n",
    "plt.legend(title='Product Line', bbox_to_anchor=(1, 1))\n",
    "\n",
    "# Show the plot\n",
    "plt.show()"
   ]
  },
  {
   "cell_type": "markdown",
   "metadata": {},
   "source": [
    "## Month"
   ]
  },
  {
   "cell_type": "code",
   "execution_count": 39,
   "metadata": {},
   "outputs": [
    {
     "data": {
      "text/html": [
       "<div>\n",
       "<style scoped>\n",
       "    .dataframe tbody tr th:only-of-type {\n",
       "        vertical-align: middle;\n",
       "    }\n",
       "\n",
       "    .dataframe tbody tr th {\n",
       "        vertical-align: top;\n",
       "    }\n",
       "\n",
       "    .dataframe thead th {\n",
       "        text-align: right;\n",
       "    }\n",
       "</style>\n",
       "<table border=\"1\" class=\"dataframe\">\n",
       "  <thead>\n",
       "    <tr style=\"text-align: right;\">\n",
       "      <th></th>\n",
       "      <th>Invoice ID</th>\n",
       "      <th>Date</th>\n",
       "      <th>Time</th>\n",
       "      <th>Month Name</th>\n",
       "      <th>Branch</th>\n",
       "      <th>Product line</th>\n",
       "      <th>City</th>\n",
       "      <th>Customer type</th>\n",
       "      <th>Gender</th>\n",
       "      <th>Payment</th>\n",
       "      <th>Unit price</th>\n",
       "      <th>Quantity</th>\n",
       "      <th>Tax 5%</th>\n",
       "      <th>Total</th>\n",
       "      <th>COGS</th>\n",
       "      <th>gross margin percentage</th>\n",
       "      <th>gross income</th>\n",
       "      <th>Rating</th>\n",
       "    </tr>\n",
       "  </thead>\n",
       "  <tbody>\n",
       "    <tr>\n",
       "      <th>592</th>\n",
       "      <td>560-49-6611</td>\n",
       "      <td>2019-02-07</td>\n",
       "      <td>14:13</td>\n",
       "      <td>February</td>\n",
       "      <td>A</td>\n",
       "      <td>Sports and travel</td>\n",
       "      <td>Yangon</td>\n",
       "      <td>Member</td>\n",
       "      <td>Female</td>\n",
       "      <td>Cash</td>\n",
       "      <td>45.58</td>\n",
       "      <td>1</td>\n",
       "      <td>2.28</td>\n",
       "      <td>47.86</td>\n",
       "      <td>45.58</td>\n",
       "      <td>4.8</td>\n",
       "      <td>2.28</td>\n",
       "      <td>9.8</td>\n",
       "    </tr>\n",
       "    <tr>\n",
       "      <th>974</th>\n",
       "      <td>744-82-9138</td>\n",
       "      <td>2019-02-07</td>\n",
       "      <td>17:59</td>\n",
       "      <td>February</td>\n",
       "      <td>C</td>\n",
       "      <td>Fashion accessories</td>\n",
       "      <td>Naypyitaw</td>\n",
       "      <td>Normal</td>\n",
       "      <td>Male</td>\n",
       "      <td>Cash</td>\n",
       "      <td>86.13</td>\n",
       "      <td>2</td>\n",
       "      <td>8.61</td>\n",
       "      <td>180.87</td>\n",
       "      <td>172.26</td>\n",
       "      <td>4.8</td>\n",
       "      <td>8.61</td>\n",
       "      <td>8.2</td>\n",
       "    </tr>\n",
       "  </tbody>\n",
       "</table>\n",
       "</div>"
      ],
      "text/plain": [
       "      Invoice ID        Date   Time Month Name Branch         Product line  \\\n",
       "592  560-49-6611  2019-02-07  14:13   February      A    Sports and travel   \n",
       "974  744-82-9138  2019-02-07  17:59   February      C  Fashion accessories   \n",
       "\n",
       "          City Customer type  Gender Payment  Unit price  Quantity  Tax 5%  \\\n",
       "592     Yangon        Member  Female    Cash       45.58         1    2.28   \n",
       "974  Naypyitaw        Normal    Male    Cash       86.13         2    8.61   \n",
       "\n",
       "      Total    COGS  gross margin percentage  gross income  Rating  \n",
       "592   47.86   45.58                      4.8          2.28     9.8  \n",
       "974  180.87  172.26                      4.8          8.61     8.2  "
      ]
     },
     "execution_count": 39,
     "metadata": {},
     "output_type": "execute_result"
    }
   ],
   "source": [
    "df.sample(2)"
   ]
  },
  {
   "cell_type": "code",
   "execution_count": 40,
   "metadata": {},
   "outputs": [
    {
     "data": {
      "text/html": [
       "<div>\n",
       "<style scoped>\n",
       "    .dataframe tbody tr th:only-of-type {\n",
       "        vertical-align: middle;\n",
       "    }\n",
       "\n",
       "    .dataframe tbody tr th {\n",
       "        vertical-align: top;\n",
       "    }\n",
       "\n",
       "    .dataframe thead th {\n",
       "        text-align: right;\n",
       "    }\n",
       "</style>\n",
       "<table border=\"1\" class=\"dataframe\">\n",
       "  <thead>\n",
       "    <tr style=\"text-align: right;\">\n",
       "      <th></th>\n",
       "      <th>Month Name</th>\n",
       "      <th>count</th>\n",
       "    </tr>\n",
       "  </thead>\n",
       "  <tbody>\n",
       "    <tr>\n",
       "      <th>0</th>\n",
       "      <td>January</td>\n",
       "      <td>340</td>\n",
       "    </tr>\n",
       "    <tr>\n",
       "      <th>1</th>\n",
       "      <td>March</td>\n",
       "      <td>333</td>\n",
       "    </tr>\n",
       "    <tr>\n",
       "      <th>2</th>\n",
       "      <td>February</td>\n",
       "      <td>295</td>\n",
       "    </tr>\n",
       "  </tbody>\n",
       "</table>\n",
       "</div>"
      ],
      "text/plain": [
       "  Month Name  count\n",
       "0    January    340\n",
       "1      March    333\n",
       "2   February    295"
      ]
     },
     "execution_count": 40,
     "metadata": {},
     "output_type": "execute_result"
    }
   ],
   "source": [
    "# The number sales for Euch Month\n",
    "\n",
    "df['Month Name'].value_counts().reset_index()"
   ]
  },
  {
   "cell_type": "code",
   "execution_count": 41,
   "metadata": {},
   "outputs": [
    {
     "data": {
      "image/png": "[encoded data removed]",
      "text/plain": [
       "<Figure size 640x480 with 1 Axes>"
      ]
     },
     "metadata": {},
     "output_type": "display_data"
    }
   ],
   "source": [
    "## Create a bar plot\n",
    "df['Month Name'].value_counts().plot(kind='bar')\n",
    "\n",
    "# Show the plot\n",
    "plt.show()"
   ]
  },
  {
   "cell_type": "code",
   "execution_count": 42,
   "metadata": {},
   "outputs": [
    {
     "data": {
      "text/html": [
       "<div>\n",
       "<style scoped>\n",
       "    .dataframe tbody tr th:only-of-type {\n",
       "        vertical-align: middle;\n",
       "    }\n",
       "\n",
       "    .dataframe tbody tr th {\n",
       "        vertical-align: top;\n",
       "    }\n",
       "\n",
       "    .dataframe thead th {\n",
       "        text-align: right;\n",
       "    }\n",
       "</style>\n",
       "<table border=\"1\" class=\"dataframe\">\n",
       "  <thead>\n",
       "    <tr style=\"text-align: right;\">\n",
       "      <th></th>\n",
       "      <th>Month Name</th>\n",
       "      <th>Total Income</th>\n",
       "    </tr>\n",
       "  </thead>\n",
       "  <tbody>\n",
       "    <tr>\n",
       "      <th>1</th>\n",
       "      <td>January</td>\n",
       "      <td>4990.45</td>\n",
       "    </tr>\n",
       "    <tr>\n",
       "      <th>2</th>\n",
       "      <td>March</td>\n",
       "      <td>4679.12</td>\n",
       "    </tr>\n",
       "    <tr>\n",
       "      <th>0</th>\n",
       "      <td>February</td>\n",
       "      <td>4262.80</td>\n",
       "    </tr>\n",
       "  </tbody>\n",
       "</table>\n",
       "</div>"
      ],
      "text/plain": [
       "  Month Name  Total Income\n",
       "1    January       4990.45\n",
       "2      March       4679.12\n",
       "0   February       4262.80"
      ]
     },
     "execution_count": 42,
     "metadata": {},
     "output_type": "execute_result"
    }
   ],
   "source": [
    "# Group by 'Month Name' and sum the 'gross income'\n",
    "monthly_total_income = df.groupby(['Month Name'])['gross income'].sum().reset_index(name='Total Income')\n",
    "\n",
    "# Sort the values by Total Income in ascending order\n",
    "monthly_total_income = monthly_total_income.sort_values(by='Total Income', ascending=False)\n",
    "\n",
    "# Display the result\n",
    "monthly_total_income"
   ]
  },
  {
   "cell_type": "code",
   "execution_count": 43,
   "metadata": {},
   "outputs": [
    {
     "data": {
      "image/png": "[encoded data removed]",
      "text/plain": [
       "<Figure size 1000x600 with 1 Axes>"
      ]
     },
     "metadata": {},
     "output_type": "display_data"
    }
   ],
   "source": [
    "# Sort the DataFrame by 'Total Income' in descending order\n",
    "monthly_total_income = monthly_total_income.sort_values(by='Total Income', ascending=False)\n",
    "\n",
    "# Create a bar plot using Seaborn\n",
    "plt.figure(figsize=(10, 6))\n",
    "sns.barplot(x='Month Name', y='Total Income', data=monthly_total_income, hue='Month Name', palette='viridis', legend=False)\n",
    "\n",
    "# Set plot labels and title\n",
    "plt.xlabel('Month')\n",
    "plt.ylabel('Total Gross Income')\n",
    "plt.title('Total Monthly Gross Income')\n",
    "\n",
    "# Show the plot\n",
    "plt.show()"
   ]
  },
  {
   "cell_type": "code",
   "execution_count": 44,
   "metadata": {},
   "outputs": [],
   "source": [
    "# Import DateTime library\n",
    "import datetime as dt"
   ]
  },
  {
   "cell_type": "code",
   "execution_count": 45,
   "metadata": {},
   "outputs": [
    {
     "data": {
      "text/plain": [
       "'2019-03-30'"
      ]
     },
     "execution_count": 45,
     "metadata": {},
     "output_type": "execute_result"
    }
   ],
   "source": [
    "# check The hight value\n",
    "df['Date'].max()"
   ]
  },
  {
   "cell_type": "code",
   "execution_count": 46,
   "metadata": {},
   "outputs": [
    {
     "data": {
      "text/html": [
       "<div>\n",
       "<style scoped>\n",
       "    .dataframe tbody tr th:only-of-type {\n",
       "        vertical-align: middle;\n",
       "    }\n",
       "\n",
       "    .dataframe tbody tr th {\n",
       "        vertical-align: top;\n",
       "    }\n",
       "\n",
       "    .dataframe thead th {\n",
       "        text-align: right;\n",
       "    }\n",
       "</style>\n",
       "<table border=\"1\" class=\"dataframe\">\n",
       "  <thead>\n",
       "    <tr style=\"text-align: right;\">\n",
       "      <th></th>\n",
       "      <th>Invoice ID</th>\n",
       "      <th>Date</th>\n",
       "      <th>Time</th>\n",
       "      <th>Month Name</th>\n",
       "      <th>Branch</th>\n",
       "      <th>Product line</th>\n",
       "      <th>City</th>\n",
       "      <th>Customer type</th>\n",
       "      <th>Gender</th>\n",
       "      <th>Payment</th>\n",
       "      <th>Unit price</th>\n",
       "      <th>Quantity</th>\n",
       "      <th>Tax 5%</th>\n",
       "      <th>Total</th>\n",
       "      <th>COGS</th>\n",
       "      <th>gross margin percentage</th>\n",
       "      <th>gross income</th>\n",
       "      <th>Rating</th>\n",
       "    </tr>\n",
       "  </thead>\n",
       "  <tbody>\n",
       "    <tr>\n",
       "      <th>879</th>\n",
       "      <td>761-49-0439</td>\n",
       "      <td>2019-01-19</td>\n",
       "      <td>10:17</td>\n",
       "      <td>January</td>\n",
       "      <td>B</td>\n",
       "      <td>Electronic accessories</td>\n",
       "      <td>Mandalay</td>\n",
       "      <td>Member</td>\n",
       "      <td>Female</td>\n",
       "      <td>Ewallet</td>\n",
       "      <td>12.10</td>\n",
       "      <td>8</td>\n",
       "      <td>4.84</td>\n",
       "      <td>101.64</td>\n",
       "      <td>96.80</td>\n",
       "      <td>4.8</td>\n",
       "      <td>4.84</td>\n",
       "      <td>8.6</td>\n",
       "    </tr>\n",
       "    <tr>\n",
       "      <th>835</th>\n",
       "      <td>807-34-3742</td>\n",
       "      <td>2019-03-26</td>\n",
       "      <td>19:44</td>\n",
       "      <td>March</td>\n",
       "      <td>A</td>\n",
       "      <td>Fashion accessories</td>\n",
       "      <td>Yangon</td>\n",
       "      <td>Normal</td>\n",
       "      <td>Male</td>\n",
       "      <td>Cash</td>\n",
       "      <td>52.38</td>\n",
       "      <td>1</td>\n",
       "      <td>2.62</td>\n",
       "      <td>55.00</td>\n",
       "      <td>52.38</td>\n",
       "      <td>4.8</td>\n",
       "      <td>2.62</td>\n",
       "      <td>5.8</td>\n",
       "    </tr>\n",
       "    <tr>\n",
       "      <th>218</th>\n",
       "      <td>549-03-9315</td>\n",
       "      <td>2019-02-12</td>\n",
       "      <td>12:58</td>\n",
       "      <td>February</td>\n",
       "      <td>B</td>\n",
       "      <td>Fashion accessories</td>\n",
       "      <td>Mandalay</td>\n",
       "      <td>Normal</td>\n",
       "      <td>Male</td>\n",
       "      <td>Ewallet</td>\n",
       "      <td>94.87</td>\n",
       "      <td>8</td>\n",
       "      <td>37.95</td>\n",
       "      <td>796.91</td>\n",
       "      <td>758.96</td>\n",
       "      <td>4.8</td>\n",
       "      <td>37.95</td>\n",
       "      <td>8.7</td>\n",
       "    </tr>\n",
       "  </tbody>\n",
       "</table>\n",
       "</div>"
      ],
      "text/plain": [
       "      Invoice ID        Date   Time Month Name Branch            Product line  \\\n",
       "879  761-49-0439  2019-01-19  10:17    January      B  Electronic accessories   \n",
       "835  807-34-3742  2019-03-26  19:44      March      A     Fashion accessories   \n",
       "218  549-03-9315  2019-02-12  12:58   February      B     Fashion accessories   \n",
       "\n",
       "         City Customer type  Gender  Payment  Unit price  Quantity  Tax 5%  \\\n",
       "879  Mandalay        Member  Female  Ewallet       12.10         8    4.84   \n",
       "835    Yangon        Normal    Male     Cash       52.38         1    2.62   \n",
       "218  Mandalay        Normal    Male  Ewallet       94.87         8   37.95   \n",
       "\n",
       "      Total    COGS  gross margin percentage  gross income  Rating  \n",
       "879  101.64   96.80                      4.8          4.84     8.6  \n",
       "835   55.00   52.38                      4.8          2.62     5.8  \n",
       "218  796.91  758.96                      4.8         37.95     8.7  "
      ]
     },
     "execution_count": 46,
     "metadata": {},
     "output_type": "execute_result"
    }
   ],
   "source": [
    "# showing data\n",
    "df.sample(3)"
   ]
  },
  {
   "cell_type": "code",
   "execution_count": 47,
   "metadata": {},
   "outputs": [
    {
     "name": "stderr",
     "output_type": "stream",
     "text": [
      "C:\\Users\\H4\\AppData\\Local\\Temp\\ipykernel_4360\\3785280715.py:3: SettingWithCopyWarning:\n",
      "\n",
      "\n",
      "A value is trying to be set on a copy of a slice from a DataFrame.\n",
      "Try using .loc[row_indexer,col_indexer] = value instead\n",
      "\n",
      "See the caveats in the documentation: https://pandas.pydata.org/pandas-docs/stable/user_guide/indexing.html#returning-a-view-versus-a-copy\n",
      "\n"
     ]
    }
   ],
   "source": [
    "# change the Date type to datetime\n",
    "\n",
    "df['Date'] = pd.to_datetime(df['Date'])"
   ]
  },
  {
   "cell_type": "code",
   "execution_count": 48,
   "metadata": {},
   "outputs": [],
   "source": [
    "# the begin date \n",
    "\n",
    "to_day = dt.datetime(2019, 4, 1)"
   ]
  },
  {
   "cell_type": "code",
   "execution_count": 49,
   "metadata": {},
   "outputs": [
    {
     "data": {
      "text/html": [
       "<div>\n",
       "<style scoped>\n",
       "    .dataframe tbody tr th:only-of-type {\n",
       "        vertical-align: middle;\n",
       "    }\n",
       "\n",
       "    .dataframe tbody tr th {\n",
       "        vertical-align: top;\n",
       "    }\n",
       "\n",
       "    .dataframe thead th {\n",
       "        text-align: right;\n",
       "    }\n",
       "</style>\n",
       "<table border=\"1\" class=\"dataframe\">\n",
       "  <thead>\n",
       "    <tr style=\"text-align: right;\">\n",
       "      <th></th>\n",
       "      <th>Date</th>\n",
       "      <th>Quantity</th>\n",
       "      <th>Total</th>\n",
       "    </tr>\n",
       "    <tr>\n",
       "      <th>Invoice ID</th>\n",
       "      <th></th>\n",
       "      <th></th>\n",
       "      <th></th>\n",
       "    </tr>\n",
       "  </thead>\n",
       "  <tbody>\n",
       "    <tr>\n",
       "      <th>101-17-6199</th>\n",
       "      <td>19</td>\n",
       "      <td>7</td>\n",
       "      <td>336.56</td>\n",
       "    </tr>\n",
       "    <tr>\n",
       "      <th>101-81-4070</th>\n",
       "      <td>74</td>\n",
       "      <td>2</td>\n",
       "      <td>131.92</td>\n",
       "    </tr>\n",
       "    <tr>\n",
       "      <th>102-06-2002</th>\n",
       "      <td>12</td>\n",
       "      <td>5</td>\n",
       "      <td>132.56</td>\n",
       "    </tr>\n",
       "    <tr>\n",
       "      <th>102-77-2261</th>\n",
       "      <td>27</td>\n",
       "      <td>7</td>\n",
       "      <td>480.03</td>\n",
       "    </tr>\n",
       "    <tr>\n",
       "      <th>105-10-6182</th>\n",
       "      <td>33</td>\n",
       "      <td>2</td>\n",
       "      <td>45.11</td>\n",
       "    </tr>\n",
       "    <tr>\n",
       "      <th>...</th>\n",
       "      <td>...</td>\n",
       "      <td>...</td>\n",
       "      <td>...</td>\n",
       "    </tr>\n",
       "    <tr>\n",
       "      <th>894-41-5205</th>\n",
       "      <td>72</td>\n",
       "      <td>8</td>\n",
       "      <td>362.71</td>\n",
       "    </tr>\n",
       "    <tr>\n",
       "      <th>895-03-6665</th>\n",
       "      <td>44</td>\n",
       "      <td>9</td>\n",
       "      <td>345.02</td>\n",
       "    </tr>\n",
       "    <tr>\n",
       "      <th>895-66-0685</th>\n",
       "      <td>27</td>\n",
       "      <td>3</td>\n",
       "      <td>56.95</td>\n",
       "    </tr>\n",
       "    <tr>\n",
       "      <th>896-34-0956</th>\n",
       "      <td>65</td>\n",
       "      <td>1</td>\n",
       "      <td>22.39</td>\n",
       "    </tr>\n",
       "    <tr>\n",
       "      <th>898-04-2717</th>\n",
       "      <td>13</td>\n",
       "      <td>9</td>\n",
       "      <td>721.98</td>\n",
       "    </tr>\n",
       "  </tbody>\n",
       "</table>\n",
       "<p>968 rows × 3 columns</p>\n",
       "</div>"
      ],
      "text/plain": [
       "             Date  Quantity   Total\n",
       "Invoice ID                         \n",
       "101-17-6199    19         7  336.56\n",
       "101-81-4070    74         2  131.92\n",
       "102-06-2002    12         5  132.56\n",
       "102-77-2261    27         7  480.03\n",
       "105-10-6182    33         2   45.11\n",
       "...           ...       ...     ...\n",
       "894-41-5205    72         8  362.71\n",
       "895-03-6665    44         9  345.02\n",
       "895-66-0685    27         3   56.95\n",
       "896-34-0956    65         1   22.39\n",
       "898-04-2717    13         9  721.98\n",
       "\n",
       "[968 rows x 3 columns]"
      ]
     },
     "execution_count": 49,
     "metadata": {},
     "output_type": "execute_result"
    }
   ],
   "source": [
    "# cerate RFM \n",
    "\n",
    "RFM = df.groupby('Invoice ID').agg({\n",
    "    'Date' : lambda data : (to_day - data.max()).days,\n",
    "    'Quantity'   : lambda num : num.sum(),\n",
    "    'Total'  : lambda TotalPrice : TotalPrice.sum()\n",
    "})\n",
    "# Showing Resualt\n",
    "RFM"
   ]
  },
  {
   "cell_type": "code",
   "execution_count": 50,
   "metadata": {},
   "outputs": [
    {
     "data": {
      "text/html": [
       "<div>\n",
       "<style scoped>\n",
       "    .dataframe tbody tr th:only-of-type {\n",
       "        vertical-align: middle;\n",
       "    }\n",
       "\n",
       "    .dataframe tbody tr th {\n",
       "        vertical-align: top;\n",
       "    }\n",
       "\n",
       "    .dataframe thead th {\n",
       "        text-align: right;\n",
       "    }\n",
       "</style>\n",
       "<table border=\"1\" class=\"dataframe\">\n",
       "  <thead>\n",
       "    <tr style=\"text-align: right;\">\n",
       "      <th></th>\n",
       "      <th>Recency</th>\n",
       "      <th>Frequency</th>\n",
       "      <th>Monetary</th>\n",
       "    </tr>\n",
       "    <tr>\n",
       "      <th>Invoice ID</th>\n",
       "      <th></th>\n",
       "      <th></th>\n",
       "      <th></th>\n",
       "    </tr>\n",
       "  </thead>\n",
       "  <tbody>\n",
       "    <tr>\n",
       "      <th>101-17-6199</th>\n",
       "      <td>19</td>\n",
       "      <td>7</td>\n",
       "      <td>336.56</td>\n",
       "    </tr>\n",
       "    <tr>\n",
       "      <th>101-81-4070</th>\n",
       "      <td>74</td>\n",
       "      <td>2</td>\n",
       "      <td>131.92</td>\n",
       "    </tr>\n",
       "    <tr>\n",
       "      <th>102-06-2002</th>\n",
       "      <td>12</td>\n",
       "      <td>5</td>\n",
       "      <td>132.56</td>\n",
       "    </tr>\n",
       "    <tr>\n",
       "      <th>102-77-2261</th>\n",
       "      <td>27</td>\n",
       "      <td>7</td>\n",
       "      <td>480.03</td>\n",
       "    </tr>\n",
       "    <tr>\n",
       "      <th>105-10-6182</th>\n",
       "      <td>33</td>\n",
       "      <td>2</td>\n",
       "      <td>45.11</td>\n",
       "    </tr>\n",
       "    <tr>\n",
       "      <th>...</th>\n",
       "      <td>...</td>\n",
       "      <td>...</td>\n",
       "      <td>...</td>\n",
       "    </tr>\n",
       "    <tr>\n",
       "      <th>894-41-5205</th>\n",
       "      <td>72</td>\n",
       "      <td>8</td>\n",
       "      <td>362.71</td>\n",
       "    </tr>\n",
       "    <tr>\n",
       "      <th>895-03-6665</th>\n",
       "      <td>44</td>\n",
       "      <td>9</td>\n",
       "      <td>345.02</td>\n",
       "    </tr>\n",
       "    <tr>\n",
       "      <th>895-66-0685</th>\n",
       "      <td>27</td>\n",
       "      <td>3</td>\n",
       "      <td>56.95</td>\n",
       "    </tr>\n",
       "    <tr>\n",
       "      <th>896-34-0956</th>\n",
       "      <td>65</td>\n",
       "      <td>1</td>\n",
       "      <td>22.39</td>\n",
       "    </tr>\n",
       "    <tr>\n",
       "      <th>898-04-2717</th>\n",
       "      <td>13</td>\n",
       "      <td>9</td>\n",
       "      <td>721.98</td>\n",
       "    </tr>\n",
       "  </tbody>\n",
       "</table>\n",
       "<p>968 rows × 3 columns</p>\n",
       "</div>"
      ],
      "text/plain": [
       "             Recency  Frequency  Monetary\n",
       "Invoice ID                               \n",
       "101-17-6199       19          7    336.56\n",
       "101-81-4070       74          2    131.92\n",
       "102-06-2002       12          5    132.56\n",
       "102-77-2261       27          7    480.03\n",
       "105-10-6182       33          2     45.11\n",
       "...              ...        ...       ...\n",
       "894-41-5205       72          8    362.71\n",
       "895-03-6665       44          9    345.02\n",
       "895-66-0685       27          3     56.95\n",
       "896-34-0956       65          1     22.39\n",
       "898-04-2717       13          9    721.98\n",
       "\n",
       "[968 rows x 3 columns]"
      ]
     },
     "execution_count": 50,
     "metadata": {},
     "output_type": "execute_result"
    }
   ],
   "source": [
    "# change columns name\n",
    "\n",
    "RFM.columns=['Recency' , 'Frequency' , 'Monetary']\n",
    "RFM"
   ]
  },
  {
   "cell_type": "code",
   "execution_count": 51,
   "metadata": {},
   "outputs": [
    {
     "data": {
      "text/html": [
       "<div>\n",
       "<style scoped>\n",
       "    .dataframe tbody tr th:only-of-type {\n",
       "        vertical-align: middle;\n",
       "    }\n",
       "\n",
       "    .dataframe tbody tr th {\n",
       "        vertical-align: top;\n",
       "    }\n",
       "\n",
       "    .dataframe thead th {\n",
       "        text-align: right;\n",
       "    }\n",
       "</style>\n",
       "<table border=\"1\" class=\"dataframe\">\n",
       "  <thead>\n",
       "    <tr style=\"text-align: right;\">\n",
       "      <th></th>\n",
       "      <th>Recency</th>\n",
       "      <th>Frequency</th>\n",
       "      <th>Monetary</th>\n",
       "    </tr>\n",
       "    <tr>\n",
       "      <th>Invoice ID</th>\n",
       "      <th></th>\n",
       "      <th></th>\n",
       "      <th></th>\n",
       "    </tr>\n",
       "  </thead>\n",
       "  <tbody>\n",
       "    <tr>\n",
       "      <th>101-17-6199</th>\n",
       "      <td>19</td>\n",
       "      <td>7</td>\n",
       "      <td>336.56</td>\n",
       "    </tr>\n",
       "    <tr>\n",
       "      <th>101-81-4070</th>\n",
       "      <td>74</td>\n",
       "      <td>2</td>\n",
       "      <td>131.92</td>\n",
       "    </tr>\n",
       "    <tr>\n",
       "      <th>102-06-2002</th>\n",
       "      <td>12</td>\n",
       "      <td>5</td>\n",
       "      <td>132.56</td>\n",
       "    </tr>\n",
       "    <tr>\n",
       "      <th>102-77-2261</th>\n",
       "      <td>27</td>\n",
       "      <td>7</td>\n",
       "      <td>480.03</td>\n",
       "    </tr>\n",
       "    <tr>\n",
       "      <th>105-10-6182</th>\n",
       "      <td>33</td>\n",
       "      <td>2</td>\n",
       "      <td>45.11</td>\n",
       "    </tr>\n",
       "    <tr>\n",
       "      <th>...</th>\n",
       "      <td>...</td>\n",
       "      <td>...</td>\n",
       "      <td>...</td>\n",
       "    </tr>\n",
       "    <tr>\n",
       "      <th>894-41-5205</th>\n",
       "      <td>72</td>\n",
       "      <td>8</td>\n",
       "      <td>362.71</td>\n",
       "    </tr>\n",
       "    <tr>\n",
       "      <th>895-03-6665</th>\n",
       "      <td>44</td>\n",
       "      <td>9</td>\n",
       "      <td>345.02</td>\n",
       "    </tr>\n",
       "    <tr>\n",
       "      <th>895-66-0685</th>\n",
       "      <td>27</td>\n",
       "      <td>3</td>\n",
       "      <td>56.95</td>\n",
       "    </tr>\n",
       "    <tr>\n",
       "      <th>896-34-0956</th>\n",
       "      <td>65</td>\n",
       "      <td>1</td>\n",
       "      <td>22.39</td>\n",
       "    </tr>\n",
       "    <tr>\n",
       "      <th>898-04-2717</th>\n",
       "      <td>13</td>\n",
       "      <td>9</td>\n",
       "      <td>721.98</td>\n",
       "    </tr>\n",
       "  </tbody>\n",
       "</table>\n",
       "<p>968 rows × 3 columns</p>\n",
       "</div>"
      ],
      "text/plain": [
       "             Recency  Frequency  Monetary\n",
       "Invoice ID                               \n",
       "101-17-6199       19          7    336.56\n",
       "101-81-4070       74          2    131.92\n",
       "102-06-2002       12          5    132.56\n",
       "102-77-2261       27          7    480.03\n",
       "105-10-6182       33          2     45.11\n",
       "...              ...        ...       ...\n",
       "894-41-5205       72          8    362.71\n",
       "895-03-6665       44          9    345.02\n",
       "895-66-0685       27          3     56.95\n",
       "896-34-0956       65          1     22.39\n",
       "898-04-2717       13          9    721.98\n",
       "\n",
       "[968 rows x 3 columns]"
      ]
     },
     "execution_count": 51,
     "metadata": {},
     "output_type": "execute_result"
    }
   ],
   "source": [
    "# chack if i have any values less than 0\n",
    "\n",
    "RFM = RFM[RFM['Monetary'] > 0]\n",
    "RFM"
   ]
  },
  {
   "cell_type": "code",
   "execution_count": 52,
   "metadata": {},
   "outputs": [],
   "source": [
    "# i put numbers baesed on Recency (i begian from zero becouse the numbers if less this the best )\n",
    "\n",
    "RFM['RecencyScore'] = pd.qcut(RFM['Recency'],5, labels=['5','4','3','2','1'])"
   ]
  },
  {
   "cell_type": "code",
   "execution_count": 53,
   "metadata": {},
   "outputs": [],
   "source": [
    "# i put numbers baesed on frequency \n",
    "\n",
    "RFM['FrequencyScore'] = pd.qcut(RFM['Frequency'].rank(method='first'), 5, labels=['1', '2', '3', '4', '5'])"
   ]
  },
  {
   "cell_type": "code",
   "execution_count": 54,
   "metadata": {},
   "outputs": [],
   "source": [
    "# i put numbers baesed on Monetary \n",
    "\n",
    "RFM['MonetaryScore'] = pd.qcut(RFM['Monetary'],5, labels=['1', '2', '3', '4', '5'])"
   ]
  },
  {
   "cell_type": "code",
   "execution_count": 55,
   "metadata": {},
   "outputs": [
    {
     "data": {
      "text/html": [
       "<div>\n",
       "<style scoped>\n",
       "    .dataframe tbody tr th:only-of-type {\n",
       "        vertical-align: middle;\n",
       "    }\n",
       "\n",
       "    .dataframe tbody tr th {\n",
       "        vertical-align: top;\n",
       "    }\n",
       "\n",
       "    .dataframe thead th {\n",
       "        text-align: right;\n",
       "    }\n",
       "</style>\n",
       "<table border=\"1\" class=\"dataframe\">\n",
       "  <thead>\n",
       "    <tr style=\"text-align: right;\">\n",
       "      <th></th>\n",
       "      <th>Recency</th>\n",
       "      <th>Frequency</th>\n",
       "      <th>Monetary</th>\n",
       "      <th>RecencyScore</th>\n",
       "      <th>FrequencyScore</th>\n",
       "      <th>MonetaryScore</th>\n",
       "    </tr>\n",
       "    <tr>\n",
       "      <th>Invoice ID</th>\n",
       "      <th></th>\n",
       "      <th></th>\n",
       "      <th></th>\n",
       "      <th></th>\n",
       "      <th></th>\n",
       "      <th></th>\n",
       "    </tr>\n",
       "  </thead>\n",
       "  <tbody>\n",
       "    <tr>\n",
       "      <th>755-12-3214</th>\n",
       "      <td>27</td>\n",
       "      <td>5</td>\n",
       "      <td>232.16</td>\n",
       "      <td>4</td>\n",
       "      <td>3</td>\n",
       "      <td>3</td>\n",
       "    </tr>\n",
       "    <tr>\n",
       "      <th>502-05-1910</th>\n",
       "      <td>35</td>\n",
       "      <td>3</td>\n",
       "      <td>205.32</td>\n",
       "      <td>4</td>\n",
       "      <td>2</td>\n",
       "      <td>3</td>\n",
       "    </tr>\n",
       "    <tr>\n",
       "      <th>186-71-5196</th>\n",
       "      <td>5</td>\n",
       "      <td>2</td>\n",
       "      <td>167.03</td>\n",
       "      <td>5</td>\n",
       "      <td>1</td>\n",
       "      <td>2</td>\n",
       "    </tr>\n",
       "    <tr>\n",
       "      <th>288-62-1085</th>\n",
       "      <td>82</td>\n",
       "      <td>5</td>\n",
       "      <td>202.33</td>\n",
       "      <td>1</td>\n",
       "      <td>3</td>\n",
       "      <td>3</td>\n",
       "    </tr>\n",
       "    <tr>\n",
       "      <th>376-02-8238</th>\n",
       "      <td>58</td>\n",
       "      <td>8</td>\n",
       "      <td>788.51</td>\n",
       "      <td>2</td>\n",
       "      <td>4</td>\n",
       "      <td>5</td>\n",
       "    </tr>\n",
       "    <tr>\n",
       "      <th>827-26-2100</th>\n",
       "      <td>11</td>\n",
       "      <td>9</td>\n",
       "      <td>319.79</td>\n",
       "      <td>5</td>\n",
       "      <td>5</td>\n",
       "      <td>4</td>\n",
       "    </tr>\n",
       "    <tr>\n",
       "      <th>790-38-4466</th>\n",
       "      <td>68</td>\n",
       "      <td>5</td>\n",
       "      <td>57.70</td>\n",
       "      <td>2</td>\n",
       "      <td>3</td>\n",
       "      <td>1</td>\n",
       "    </tr>\n",
       "    <tr>\n",
       "      <th>300-71-4605</th>\n",
       "      <td>35</td>\n",
       "      <td>5</td>\n",
       "      <td>451.71</td>\n",
       "      <td>4</td>\n",
       "      <td>3</td>\n",
       "      <td>4</td>\n",
       "    </tr>\n",
       "    <tr>\n",
       "      <th>533-66-5566</th>\n",
       "      <td>79</td>\n",
       "      <td>7</td>\n",
       "      <td>375.36</td>\n",
       "      <td>1</td>\n",
       "      <td>4</td>\n",
       "      <td>4</td>\n",
       "    </tr>\n",
       "    <tr>\n",
       "      <th>154-74-7179</th>\n",
       "      <td>34</td>\n",
       "      <td>1</td>\n",
       "      <td>57.17</td>\n",
       "      <td>4</td>\n",
       "      <td>1</td>\n",
       "      <td>1</td>\n",
       "    </tr>\n",
       "  </tbody>\n",
       "</table>\n",
       "</div>"
      ],
      "text/plain": [
       "             Recency  Frequency  Monetary RecencyScore FrequencyScore  \\\n",
       "Invoice ID                                                              \n",
       "755-12-3214       27          5    232.16            4              3   \n",
       "502-05-1910       35          3    205.32            4              2   \n",
       "186-71-5196        5          2    167.03            5              1   \n",
       "288-62-1085       82          5    202.33            1              3   \n",
       "376-02-8238       58          8    788.51            2              4   \n",
       "827-26-2100       11          9    319.79            5              5   \n",
       "790-38-4466       68          5     57.70            2              3   \n",
       "300-71-4605       35          5    451.71            4              3   \n",
       "533-66-5566       79          7    375.36            1              4   \n",
       "154-74-7179       34          1     57.17            4              1   \n",
       "\n",
       "            MonetaryScore  \n",
       "Invoice ID                 \n",
       "755-12-3214             3  \n",
       "502-05-1910             3  \n",
       "186-71-5196             2  \n",
       "288-62-1085             3  \n",
       "376-02-8238             5  \n",
       "827-26-2100             4  \n",
       "790-38-4466             1  \n",
       "300-71-4605             4  \n",
       "533-66-5566             4  \n",
       "154-74-7179             1  "
      ]
     },
     "execution_count": 55,
     "metadata": {},
     "output_type": "execute_result"
    }
   ],
   "source": [
    "# i seeing the resulte\n",
    "\n",
    "RFM.sample(10)"
   ]
  },
  {
   "cell_type": "code",
   "execution_count": 56,
   "metadata": {},
   "outputs": [],
   "source": [
    "# i Add the two columns for showing once score\n",
    "\n",
    "RFM['RFM_SCORE'] = (RFM['RecencyScore'].astype(str) + RFM['FrequencyScore'].astype(str))"
   ]
  },
  {
   "cell_type": "code",
   "execution_count": 57,
   "metadata": {},
   "outputs": [
    {
     "data": {
      "text/html": [
       "<div>\n",
       "<style scoped>\n",
       "    .dataframe tbody tr th:only-of-type {\n",
       "        vertical-align: middle;\n",
       "    }\n",
       "\n",
       "    .dataframe tbody tr th {\n",
       "        vertical-align: top;\n",
       "    }\n",
       "\n",
       "    .dataframe thead th {\n",
       "        text-align: right;\n",
       "    }\n",
       "</style>\n",
       "<table border=\"1\" class=\"dataframe\">\n",
       "  <thead>\n",
       "    <tr style=\"text-align: right;\">\n",
       "      <th></th>\n",
       "      <th>Recency</th>\n",
       "      <th>Frequency</th>\n",
       "      <th>Monetary</th>\n",
       "      <th>RecencyScore</th>\n",
       "      <th>FrequencyScore</th>\n",
       "      <th>MonetaryScore</th>\n",
       "      <th>RFM_SCORE</th>\n",
       "      <th>Segmant</th>\n",
       "    </tr>\n",
       "    <tr>\n",
       "      <th>Invoice ID</th>\n",
       "      <th></th>\n",
       "      <th></th>\n",
       "      <th></th>\n",
       "      <th></th>\n",
       "      <th></th>\n",
       "      <th></th>\n",
       "      <th></th>\n",
       "      <th></th>\n",
       "    </tr>\n",
       "  </thead>\n",
       "  <tbody>\n",
       "    <tr>\n",
       "      <th>366-93-0948</th>\n",
       "      <td>60</td>\n",
       "      <td>1</td>\n",
       "      <td>69.67</td>\n",
       "      <td>2</td>\n",
       "      <td>1</td>\n",
       "      <td>1</td>\n",
       "      <td>21</td>\n",
       "      <td>Hibernating</td>\n",
       "    </tr>\n",
       "    <tr>\n",
       "      <th>189-98-2939</th>\n",
       "      <td>31</td>\n",
       "      <td>9</td>\n",
       "      <td>742.30</td>\n",
       "      <td>4</td>\n",
       "      <td>5</td>\n",
       "      <td>5</td>\n",
       "      <td>45</td>\n",
       "      <td>loyal_customer</td>\n",
       "    </tr>\n",
       "    <tr>\n",
       "      <th>540-11-4336</th>\n",
       "      <td>80</td>\n",
       "      <td>9</td>\n",
       "      <td>235.68</td>\n",
       "      <td>1</td>\n",
       "      <td>5</td>\n",
       "      <td>3</td>\n",
       "      <td>15</td>\n",
       "      <td>cant_loose</td>\n",
       "    </tr>\n",
       "    <tr>\n",
       "      <th>201-86-2184</th>\n",
       "      <td>58</td>\n",
       "      <td>7</td>\n",
       "      <td>193.01</td>\n",
       "      <td>2</td>\n",
       "      <td>4</td>\n",
       "      <td>3</td>\n",
       "      <td>24</td>\n",
       "      <td>at_risk</td>\n",
       "    </tr>\n",
       "    <tr>\n",
       "      <th>373-14-0504</th>\n",
       "      <td>48</td>\n",
       "      <td>2</td>\n",
       "      <td>150.42</td>\n",
       "      <td>3</td>\n",
       "      <td>1</td>\n",
       "      <td>2</td>\n",
       "      <td>31</td>\n",
       "      <td>about_to_sleep</td>\n",
       "    </tr>\n",
       "    <tr>\n",
       "      <th>365-64-0515</th>\n",
       "      <td>48</td>\n",
       "      <td>5</td>\n",
       "      <td>246.49</td>\n",
       "      <td>3</td>\n",
       "      <td>3</td>\n",
       "      <td>3</td>\n",
       "      <td>33</td>\n",
       "      <td>Need_attention</td>\n",
       "    </tr>\n",
       "    <tr>\n",
       "      <th>478-06-7835</th>\n",
       "      <td>80</td>\n",
       "      <td>1</td>\n",
       "      <td>94.17</td>\n",
       "      <td>1</td>\n",
       "      <td>1</td>\n",
       "      <td>1</td>\n",
       "      <td>11</td>\n",
       "      <td>Hibernating</td>\n",
       "    </tr>\n",
       "    <tr>\n",
       "      <th>471-41-2823</th>\n",
       "      <td>25</td>\n",
       "      <td>2</td>\n",
       "      <td>209.56</td>\n",
       "      <td>4</td>\n",
       "      <td>1</td>\n",
       "      <td>3</td>\n",
       "      <td>41</td>\n",
       "      <td>promisiong</td>\n",
       "    </tr>\n",
       "    <tr>\n",
       "      <th>883-17-4236</th>\n",
       "      <td>30</td>\n",
       "      <td>2</td>\n",
       "      <td>30.22</td>\n",
       "      <td>4</td>\n",
       "      <td>2</td>\n",
       "      <td>1</td>\n",
       "      <td>42</td>\n",
       "      <td>potential_loylists</td>\n",
       "    </tr>\n",
       "    <tr>\n",
       "      <th>545-07-8534</th>\n",
       "      <td>46</td>\n",
       "      <td>2</td>\n",
       "      <td>122.47</td>\n",
       "      <td>3</td>\n",
       "      <td>1</td>\n",
       "      <td>2</td>\n",
       "      <td>31</td>\n",
       "      <td>about_to_sleep</td>\n",
       "    </tr>\n",
       "  </tbody>\n",
       "</table>\n",
       "</div>"
      ],
      "text/plain": [
       "             Recency  Frequency  Monetary RecencyScore FrequencyScore  \\\n",
       "Invoice ID                                                              \n",
       "366-93-0948       60          1     69.67            2              1   \n",
       "189-98-2939       31          9    742.30            4              5   \n",
       "540-11-4336       80          9    235.68            1              5   \n",
       "201-86-2184       58          7    193.01            2              4   \n",
       "373-14-0504       48          2    150.42            3              1   \n",
       "365-64-0515       48          5    246.49            3              3   \n",
       "478-06-7835       80          1     94.17            1              1   \n",
       "471-41-2823       25          2    209.56            4              1   \n",
       "883-17-4236       30          2     30.22            4              2   \n",
       "545-07-8534       46          2    122.47            3              1   \n",
       "\n",
       "            MonetaryScore RFM_SCORE             Segmant  \n",
       "Invoice ID                                               \n",
       "366-93-0948             1        21         Hibernating  \n",
       "189-98-2939             5        45      loyal_customer  \n",
       "540-11-4336             3        15          cant_loose  \n",
       "201-86-2184             3        24             at_risk  \n",
       "373-14-0504             2        31      about_to_sleep  \n",
       "365-64-0515             3        33      Need_attention  \n",
       "478-06-7835             1        11         Hibernating  \n",
       "471-41-2823             3        41          promisiong  \n",
       "883-17-4236             1        42  potential_loylists  \n",
       "545-07-8534             2        31      about_to_sleep  "
      ]
     },
     "execution_count": 57,
     "metadata": {},
     "output_type": "execute_result"
    }
   ],
   "source": [
    "# splite the segmantation baesd on rank\n",
    "\n",
    "sem_map = {\n",
    "    r'[1-2][1-2]' : 'Hibernating',\n",
    "    r'[1-2][3-4]' : 'at_risk',\n",
    "    r'[1-2]5'     : 'cant_loose',\n",
    "    r'3[1-2]'     : 'about_to_sleep',\n",
    "    r'33'         : 'Need_attention',\n",
    "    r'[3-4][4-5]' : 'loyal_customer',\n",
    "    r'41'         : 'promisiong',\n",
    "    r'51'         : 'new_customer', \n",
    "    r'[4-5][2-3]' : 'potential_loylists',\n",
    "    r'5[4-5]'     : 'champions'\n",
    "}\n",
    "RFM['Segmant'] = RFM['RFM_SCORE'].replace(sem_map, regex=True)\n",
    "\n",
    "RFM.sample(10)"
   ]
  },
  {
   "cell_type": "code",
   "execution_count": 58,
   "metadata": {},
   "outputs": [
    {
     "data": {
      "text/html": [
       "<div>\n",
       "<style scoped>\n",
       "    .dataframe tbody tr th:only-of-type {\n",
       "        vertical-align: middle;\n",
       "    }\n",
       "\n",
       "    .dataframe tbody tr th {\n",
       "        vertical-align: top;\n",
       "    }\n",
       "\n",
       "    .dataframe thead th {\n",
       "        text-align: right;\n",
       "    }\n",
       "</style>\n",
       "<table border=\"1\" class=\"dataframe\">\n",
       "  <thead>\n",
       "    <tr style=\"text-align: right;\">\n",
       "      <th></th>\n",
       "      <th>Recency</th>\n",
       "      <th>Frequency</th>\n",
       "      <th>Monetary</th>\n",
       "    </tr>\n",
       "  </thead>\n",
       "  <tbody>\n",
       "    <tr>\n",
       "      <th>count</th>\n",
       "      <td>968.00</td>\n",
       "      <td>968.00</td>\n",
       "      <td>968.00</td>\n",
       "    </tr>\n",
       "    <tr>\n",
       "      <th>mean</th>\n",
       "      <td>45.98</td>\n",
       "      <td>5.37</td>\n",
       "      <td>302.25</td>\n",
       "    </tr>\n",
       "    <tr>\n",
       "      <th>std</th>\n",
       "      <td>25.05</td>\n",
       "      <td>2.87</td>\n",
       "      <td>221.23</td>\n",
       "    </tr>\n",
       "    <tr>\n",
       "      <th>min</th>\n",
       "      <td>2.00</td>\n",
       "      <td>1.00</td>\n",
       "      <td>10.68</td>\n",
       "    </tr>\n",
       "    <tr>\n",
       "      <th>25%</th>\n",
       "      <td>24.00</td>\n",
       "      <td>3.00</td>\n",
       "      <td>119.94</td>\n",
       "    </tr>\n",
       "    <tr>\n",
       "      <th>50%</th>\n",
       "      <td>47.00</td>\n",
       "      <td>5.00</td>\n",
       "      <td>243.46</td>\n",
       "    </tr>\n",
       "    <tr>\n",
       "      <th>75%</th>\n",
       "      <td>67.00</td>\n",
       "      <td>8.00</td>\n",
       "      <td>450.33</td>\n",
       "    </tr>\n",
       "    <tr>\n",
       "      <th>max</th>\n",
       "      <td>90.00</td>\n",
       "      <td>10.00</td>\n",
       "      <td>867.09</td>\n",
       "    </tr>\n",
       "  </tbody>\n",
       "</table>\n",
       "</div>"
      ],
      "text/plain": [
       "       Recency  Frequency  Monetary\n",
       "count   968.00     968.00    968.00\n",
       "mean     45.98       5.37    302.25\n",
       "std      25.05       2.87    221.23\n",
       "min       2.00       1.00     10.68\n",
       "25%      24.00       3.00    119.94\n",
       "50%      47.00       5.00    243.46\n",
       "75%      67.00       8.00    450.33\n",
       "max      90.00      10.00    867.09"
      ]
     },
     "execution_count": 58,
     "metadata": {},
     "output_type": "execute_result"
    }
   ],
   "source": [
    "round(RFM.describe(),2)\n"
   ]
  },
  {
   "cell_type": "code",
   "execution_count": 59,
   "metadata": {},
   "outputs": [
    {
     "data": {
      "text/html": [
       "<div>\n",
       "<style scoped>\n",
       "    .dataframe tbody tr th:only-of-type {\n",
       "        vertical-align: middle;\n",
       "    }\n",
       "\n",
       "    .dataframe tbody tr th {\n",
       "        vertical-align: top;\n",
       "    }\n",
       "\n",
       "    .dataframe thead th {\n",
       "        text-align: right;\n",
       "    }\n",
       "</style>\n",
       "<table border=\"1\" class=\"dataframe\">\n",
       "  <thead>\n",
       "    <tr style=\"text-align: right;\">\n",
       "      <th></th>\n",
       "      <th>Segmant</th>\n",
       "      <th>count</th>\n",
       "    </tr>\n",
       "  </thead>\n",
       "  <tbody>\n",
       "    <tr>\n",
       "      <th>0</th>\n",
       "      <td>potential_loylists</td>\n",
       "      <td>165</td>\n",
       "    </tr>\n",
       "    <tr>\n",
       "      <th>1</th>\n",
       "      <td>at_risk</td>\n",
       "      <td>159</td>\n",
       "    </tr>\n",
       "    <tr>\n",
       "      <th>2</th>\n",
       "      <td>loyal_customer</td>\n",
       "      <td>151</td>\n",
       "    </tr>\n",
       "    <tr>\n",
       "      <th>3</th>\n",
       "      <td>Hibernating</td>\n",
       "      <td>142</td>\n",
       "    </tr>\n",
       "    <tr>\n",
       "      <th>4</th>\n",
       "      <td>about_to_sleep</td>\n",
       "      <td>85</td>\n",
       "    </tr>\n",
       "    <tr>\n",
       "      <th>5</th>\n",
       "      <td>cant_loose</td>\n",
       "      <td>84</td>\n",
       "    </tr>\n",
       "    <tr>\n",
       "      <th>6</th>\n",
       "      <td>champions</td>\n",
       "      <td>72</td>\n",
       "    </tr>\n",
       "    <tr>\n",
       "      <th>7</th>\n",
       "      <td>Need_attention</td>\n",
       "      <td>38</td>\n",
       "    </tr>\n",
       "    <tr>\n",
       "      <th>8</th>\n",
       "      <td>promisiong</td>\n",
       "      <td>36</td>\n",
       "    </tr>\n",
       "    <tr>\n",
       "      <th>9</th>\n",
       "      <td>new_customer</td>\n",
       "      <td>36</td>\n",
       "    </tr>\n",
       "  </tbody>\n",
       "</table>\n",
       "</div>"
      ],
      "text/plain": [
       "              Segmant  count\n",
       "0  potential_loylists    165\n",
       "1             at_risk    159\n",
       "2      loyal_customer    151\n",
       "3         Hibernating    142\n",
       "4      about_to_sleep     85\n",
       "5          cant_loose     84\n",
       "6           champions     72\n",
       "7      Need_attention     38\n",
       "8          promisiong     36\n",
       "9        new_customer     36"
      ]
     },
     "execution_count": 59,
     "metadata": {},
     "output_type": "execute_result"
    }
   ],
   "source": [
    "RFM['Segmant'].value_counts().reset_index()"
   ]
  },
  {
   "cell_type": "code",
   "execution_count": 60,
   "metadata": {},
   "outputs": [],
   "source": [
    "df.to_csv('supermarket sales.csv')"
   ]
  },
  {
   "cell_type": "code",
   "execution_count": 61,
   "metadata": {},
   "outputs": [],
   "source": [
    "RFM.to_csv('SuperMarket_Sales_RFM.csv')"
   ]
  }
 ],
 "metadata": {
  "kernelspec": {
   "display_name": "Python 3",
   "language": "python",
   "name": "python3"
  },
  "language_info": {
   "codemirror_mode": {
    "name": "ipython",
    "version": 3
   },
   "file_extension": ".py",
   "mimetype": "text/x-python",
   "name": "python",
   "nbconvert_exporter": "python",
   "pygments_lexer": "ipython3",
   "version": "3.11.3"
  }
 },
 "nbformat": 4,
 "nbformat_minor": 2
}
